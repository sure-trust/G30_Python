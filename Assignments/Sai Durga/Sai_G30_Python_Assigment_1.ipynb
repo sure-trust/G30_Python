{
  "nbformat": 4,
  "nbformat_minor": 0,
  "metadata": {
    "colab": {
      "provenance": [],
      "authorship_tag": "ABX9TyNM8fOMLuDZcUilL6bXygSb",
      "include_colab_link": true
    },
    "kernelspec": {
      "name": "python3",
      "display_name": "Python 3"
    },
    "language_info": {
      "name": "python"
    }
  },
  "cells": [
    {
      "cell_type": "markdown",
      "metadata": {
        "id": "view-in-github",
        "colab_type": "text"
      },
      "source": [
        "<a href=\"https://colab.research.google.com/github/upparapalli/G30_Python/blob/main/Sai_G30_Python_Assigment_1.ipynb\" target=\"_parent\"><img src=\"https://colab.research.google.com/assets/colab-badge.svg\" alt=\"Open In Colab\"/></a>"
      ]
    },
    {
      "cell_type": "code",
      "execution_count": null,
      "metadata": {
        "colab": {
          "base_uri": "https://localhost:8080/"
        },
        "id": "TY_agWpx7LGy",
        "outputId": "1c83149b-ca63-48f3-a194-8a61e47450a8"
      },
      "outputs": [
        {
          "output_type": "stream",
          "name": "stdout",
          "text": [
            "Total bill: $980.70\n"
          ]
        }
      ],
      "source": [
        "#1)You're at the grocery store. Write a program to calculate the total bill based on item prices and quantities, applying discounts for bulk purchases. (Variables: prices, quantities; Operators: +, -, *, /; If-else: check bulk quantities for discounts)\n",
        "prices = {\"Lux Soap\": 38, \"Tooth Paste\": 50, \"Boast\": 150, \"Jam\": 100}\n",
        "quantities = {\"Lux Soap\": 8, \"Tooth Paste\": 9, \"Boast\": 2, \"Jam\": 1}\n",
        "total_bill = 0\n",
        "for item, quantity in quantities.items():\n",
        "   price = prices[item]\n",
        "   discount =0\n",
        "   if item == \"Lux Soap\" and quantity >= 3:\n",
        "       discount = 0.20\n",
        "   elif item == \"Tooth Paste\" and quantity >= 6:\n",
        "       discount = 0.25\n",
        "   discounted_price = price * (1 - discount)\n",
        "   total_bill += discounted_price * quantity\n",
        "print(f\"Total bill: ${total_bill:.2f}\")"
      ]
    },
    {
      "cell_type": "code",
      "source": [
        "# You have a budget for clothes shopping. Design a program to help you stay within your budget, considering item prices and offering suggestions if you go over. (Variables: budget, item prices; Operators: -, <, >; If-else: check budget vs. total cost)\n",
        "def budget_clothes_shopping():\n",
        "   budget = 2000\n",
        "   total_cost = 0\n",
        "   num_items = 0\n",
        "   while True:\n",
        "       item_price = float(input(\" price of an item\"))\n",
        "       if item_price == 0:\n",
        "           break\n",
        "       total_cost += item_price\n",
        "       num_items += 1\n",
        "       if total_cost > budget:\n",
        "           print(f\"exceeded your budget{total_cost:.2f}\")\n",
        "           break\n",
        "   if total_cost <= budget:\n",
        "       print(f\"your budget${budget:.2f}.\")\n",
        "budget_clothes_shopping()"
      ],
      "metadata": {
        "colab": {
          "base_uri": "https://localhost:8080/"
        },
        "id": "4MdQaW3Ary6W",
        "outputId": "ad9f730e-2bfd-4c6d-d0c3-8191d64ad82f"
      },
      "execution_count": null,
      "outputs": [
        {
          "output_type": "stream",
          "name": "stdout",
          "text": [
            " price of an item500\n",
            " price of an item500\n",
            " price of an item500\n",
            " price of an item500\n",
            " price of an item0\n",
            "your budget$2000.00.\n"
          ]
        }
      ]
    },
    {
      "cell_type": "code",
      "source": [
        "#Travel Adventures (5):Planning a road trip? Write a program to estimate the travel time and fuel cost based on distance, vehicle mileage, and gas prices. (Variables: distance, mileage, gas price; Operators: *, /; If-else: consider different fuel efficiency for highway vs. city driving)\n",
        "def Planning_aroad_trip():\n",
        "  distance = float(input(\"distance of your trip\"))\n",
        "  mileage = float(input(\"vehicle mileage miles(\"))\n",
        "  gas_price = float(input(\"current gas price\"))\n",
        "  mileage_percent = float(input(\"mileage (%): \")) / 100\n",
        "  average_mileage = (mileage * mileage_percent)\n",
        "  travel_time = distance / average_mileage\n",
        "  fuel_cost = distance * gas_price / average_mileage\n",
        "  print(f\"Estimated travel time: {travel_time:.2f} hours\")\n",
        "  print(f\"Estimated fuel cost: ${fuel_cost:.2f}\")\n",
        "Planning_aroad_trip()"
      ],
      "metadata": {
        "colab": {
          "base_uri": "https://localhost:8080/"
        },
        "id": "Q7AtqLaS0bSZ",
        "outputId": "6af4182d-f548-47a6-e745-8178c39d5dec"
      },
      "execution_count": null,
      "outputs": [
        {
          "output_type": "stream",
          "name": "stdout",
          "text": [
            "distance of your trip50\n",
            "vehicle mileage miles(50\n",
            "current gas price50\n",
            "mileage (%): 50\n",
            "Estimated travel time: 2.00 hours\n",
            "Estimated fuel cost: $100.00\n"
          ]
        }
      ]
    },
    {
      "cell_type": "code",
      "source": [
        "#Packing for a camping trip? Create a program that suggests items based on weather conditions and campsite amenities. (Variables: weather, amenities; Operators: ==, !=; If-else: suggest different gear based on conditions)\n",
        "def camping_trip_packing(weather, amenities):\n",
        "  suggested_items = []\n",
        "  if weather == \"sun\":\n",
        "    suggested_items.extend([\"Hat\", \"Sunglasses\"])\n",
        "  elif weather == \"rain\":\n",
        "    suggested_items.extend([\"Raincoat\", \"Umbrella\"])\n",
        "  if \"Dry\" in amenities:\n",
        "    suggested_items.append(\"Camp fire\")\n",
        "  suggested_items.extend([\"Tent\", \"Sleeping bag\", \"Cooking\", \"Water bottle\", \"Food\", \"Snacks\"])\n",
        "  return suggested_items\n",
        "weather = \"sun and rain\"\n",
        "amenities = [\"Dry\"]\n",
        "suggested_items = camping_trip_packing(weather, amenities)\n",
        "print(f\"Suggested camping gear for {weather} weather with {amenities} amenities:\")\n",
        "for item in suggested_items:\n",
        "  print(f\"- {item}\")"
      ],
      "metadata": {
        "colab": {
          "base_uri": "https://localhost:8080/"
        },
        "id": "91PbYjs-8NqQ",
        "outputId": "ad9a893b-dfe2-4a26-8282-ce0ae359c45e"
      },
      "execution_count": null,
      "outputs": [
        {
          "output_type": "stream",
          "name": "stdout",
          "text": [
            "Suggested camping gear for sun and rain weather with ['Dry'] amenities:\n",
            "- Camp fire\n",
            "- Tent\n",
            "- Sleeping bag\n",
            "- Cooking\n",
            "- Water bottle\n",
            "- Food\n",
            "- Snacks\n"
          ]
        }
      ]
    },
    {
      "cell_type": "code",
      "source": [
        "#Lost in the city? Design a program that recommends nearby restaurants based on your budget and dietary preferences. (Variables: budget, preferences; Operators: ==, !=; If-else: filter restaurants based on criteria)\n",
        "def recommend_restaurants():\n",
        "    budget = float(input(\"your budget\"))\n",
        "    preferences = input(\"your dietary preferences (vegetarian,non vegetarian): \")\n",
        "    recommended_restaurants = []\n",
        "      #response = requests.get(url)\n",
        "    venues = [\"India\"]\n",
        "    for venue in venues:\n",
        "        price = venue[\"price\"]\n",
        "        if price is None or price.lower() in [\"cheap\", \"moderate\"]:\n",
        "            if preferences in venue[\"name\"].lower() or preferences in venue[\"categories\"][0][\"name\"].lower():\n",
        "                recommended_restaurants.append(venue[\"name\"])\n",
        "    if recommended_restaurants:\n",
        "        print(\"Here are some restaurants that fit your criteria:\")\n",
        "        for restaurant in recommended_restaurants:\n",
        "            print(restaurant)\n",
        "recommend_restaurants()"
      ],
      "metadata": {
        "colab": {
          "base_uri": "https://localhost:8080/",
          "height": 385
        },
        "id": "jYbEEmm7DaOn",
        "outputId": "09636750-9d54-4344-ae9b-06bf28e2dd52"
      },
      "execution_count": null,
      "outputs": [
        {
          "name": "stdout",
          "output_type": "stream",
          "text": [
            "your budget500\n",
            "your dietary preferences (vegetarian,non vegetarian): 500\n"
          ]
        },
        {
          "output_type": "error",
          "ename": "TypeError",
          "evalue": "string indices must be integers",
          "traceback": [
            "\u001b[0;31m---------------------------------------------------------------------------\u001b[0m",
            "\u001b[0;31mTypeError\u001b[0m                                 Traceback (most recent call last)",
            "\u001b[0;32m<ipython-input-130-41c6b0844fcd>\u001b[0m in \u001b[0;36m<cell line: 17>\u001b[0;34m()\u001b[0m\n\u001b[1;32m     15\u001b[0m         \u001b[0;32mfor\u001b[0m \u001b[0mrestaurant\u001b[0m \u001b[0;32min\u001b[0m \u001b[0mrecommended_restaurants\u001b[0m\u001b[0;34m:\u001b[0m\u001b[0;34m\u001b[0m\u001b[0;34m\u001b[0m\u001b[0m\n\u001b[1;32m     16\u001b[0m             \u001b[0mprint\u001b[0m\u001b[0;34m(\u001b[0m\u001b[0mrestaurant\u001b[0m\u001b[0;34m)\u001b[0m\u001b[0;34m\u001b[0m\u001b[0;34m\u001b[0m\u001b[0m\n\u001b[0;32m---> 17\u001b[0;31m \u001b[0mrecommend_restaurants\u001b[0m\u001b[0;34m(\u001b[0m\u001b[0;34m)\u001b[0m\u001b[0;34m\u001b[0m\u001b[0;34m\u001b[0m\u001b[0m\n\u001b[0m",
            "\u001b[0;32m<ipython-input-130-41c6b0844fcd>\u001b[0m in \u001b[0;36mrecommend_restaurants\u001b[0;34m()\u001b[0m\n\u001b[1;32m      7\u001b[0m     \u001b[0mvenues\u001b[0m \u001b[0;34m=\u001b[0m \u001b[0;34m[\u001b[0m\u001b[0;34m\"India\"\u001b[0m\u001b[0;34m]\u001b[0m\u001b[0;34m\u001b[0m\u001b[0;34m\u001b[0m\u001b[0m\n\u001b[1;32m      8\u001b[0m     \u001b[0;32mfor\u001b[0m \u001b[0mvenue\u001b[0m \u001b[0;32min\u001b[0m \u001b[0mvenues\u001b[0m\u001b[0;34m:\u001b[0m\u001b[0;34m\u001b[0m\u001b[0;34m\u001b[0m\u001b[0m\n\u001b[0;32m----> 9\u001b[0;31m         \u001b[0mprice\u001b[0m \u001b[0;34m=\u001b[0m \u001b[0mvenue\u001b[0m\u001b[0;34m[\u001b[0m\u001b[0;34m\"price\"\u001b[0m\u001b[0;34m]\u001b[0m\u001b[0;34m\u001b[0m\u001b[0;34m\u001b[0m\u001b[0m\n\u001b[0m\u001b[1;32m     10\u001b[0m         \u001b[0;32mif\u001b[0m \u001b[0mprice\u001b[0m \u001b[0;32mis\u001b[0m \u001b[0;32mNone\u001b[0m \u001b[0;32mor\u001b[0m \u001b[0mprice\u001b[0m\u001b[0;34m.\u001b[0m\u001b[0mlower\u001b[0m\u001b[0;34m(\u001b[0m\u001b[0;34m)\u001b[0m \u001b[0;32min\u001b[0m \u001b[0;34m[\u001b[0m\u001b[0;34m\"cheap\"\u001b[0m\u001b[0;34m,\u001b[0m \u001b[0;34m\"moderate\"\u001b[0m\u001b[0;34m]\u001b[0m\u001b[0;34m:\u001b[0m\u001b[0;34m\u001b[0m\u001b[0;34m\u001b[0m\u001b[0m\n\u001b[1;32m     11\u001b[0m             \u001b[0;32mif\u001b[0m \u001b[0mpreferences\u001b[0m \u001b[0;32min\u001b[0m \u001b[0mvenue\u001b[0m\u001b[0;34m[\u001b[0m\u001b[0;34m\"name\"\u001b[0m\u001b[0;34m]\u001b[0m\u001b[0;34m.\u001b[0m\u001b[0mlower\u001b[0m\u001b[0;34m(\u001b[0m\u001b[0;34m)\u001b[0m \u001b[0;32mor\u001b[0m \u001b[0mpreferences\u001b[0m \u001b[0;32min\u001b[0m \u001b[0mvenue\u001b[0m\u001b[0;34m[\u001b[0m\u001b[0;34m\"categories\"\u001b[0m\u001b[0;34m]\u001b[0m\u001b[0;34m[\u001b[0m\u001b[0;36m0\u001b[0m\u001b[0;34m]\u001b[0m\u001b[0;34m[\u001b[0m\u001b[0;34m\"name\"\u001b[0m\u001b[0;34m]\u001b[0m\u001b[0;34m.\u001b[0m\u001b[0mlower\u001b[0m\u001b[0;34m(\u001b[0m\u001b[0;34m)\u001b[0m\u001b[0;34m:\u001b[0m\u001b[0;34m\u001b[0m\u001b[0;34m\u001b[0m\u001b[0m\n",
            "\u001b[0;31mTypeError\u001b[0m: string indices must be integers"
          ]
        }
      ]
    },
    {
      "cell_type": "code",
      "source": [
        "#Choosing an investment plan? Build a program that compares different investment options based on risk tolerance and desired returns. (Variables: risk tolerance, returns; Operators: +, -, *, /; If-else: suggest options based on user's profile)\n",
        "def investment_plan_suggestions(risk_tolerance, desired_returns):\n",
        "  suggestions = []\n",
        "  if risk_tolerance == \"low\":\n",
        "    suggestions.append(\"market funds: Low risk, low returns.\")\n",
        "  elif risk_tolerance == \"moderate\":\n",
        "    suggestions.append(\"Balanced funds:moderate risk and returns.\")\n",
        "  elif risk_tolerance == \"high\":\n",
        "    suggestions.append(\"Growth funds: higher returns and risk.\")\n",
        "  if desired_returns > 10:\n",
        "    suggestions.append(\"Consider consulting a financial advisor.\")\n",
        "  return suggestions\n",
        "risk_tolerance = \"moderate\"\n",
        "desired_returns = 2\n",
        "suggestions = investment_plan_suggestions(risk_tolerance, desired_returns)\n",
        "print(f\"Investment options for {risk_tolerance} risk tolerance and {desired_returns:.2f}% desired returns:\")\n",
        "for suggestion in suggestions:\n",
        "  print(f\"- {suggestion}\")"
      ],
      "metadata": {
        "colab": {
          "base_uri": "https://localhost:8080/"
        },
        "id": "pn033jaBHWHA",
        "outputId": "0c5dc77b-7ad8-455d-9ae2-a825935f6c92"
      },
      "execution_count": null,
      "outputs": [
        {
          "output_type": "stream",
          "name": "stdout",
          "text": [
            "Investment options for moderate risk tolerance and 2.00% desired returns:\n",
            "- Balanced funds:moderate risk and returns.\n"
          ]
        }
      ]
    },
    {
      "cell_type": "code",
      "source": [
        "#Deciding what to cook for dinner? Write a program that recommends recipes based on available ingredients and dietary restrictions. (Variables: ingredients, restrictions; Operators: ==, !=; If-else: filter recipes based on criteria)\n",
        "def recommend_recipes(ingredients, restrictions):\n",
        "  recipes = {\n",
        "    \"pasta primavera\": [\"pasta\", \"vegetables\", \"olive oil\", \"garlic\", \"parmesan cheese\"],\n",
        "  }\n",
        "  available_recipes = []\n",
        "  for recipe_name, recipe_ingredients in recipes.items():\n",
        "    if all(ingredient in ingredients for ingredient in recipe_ingredients):\n",
        "      available_recipes.append(recipe_name)\n",
        "  filtered_recipes = []\n",
        "  for recipe in available_recipes:\n",
        "    if not any(restriction in recipe for restriction in restrictions):\n",
        "      filtered_recipes.append(recipe)\n",
        "  return filtered_recipes\n",
        "ingredients = [\"pasta\", \"vegetables\", \"olive oil\", \"garlic\"]\n",
        "restrictions = [\"vegetarian\"]\n",
        "recommended_recipes = recommend_recipes(ingredients, restrictions)\n",
        "print(f\"Recommended recipes for you:\")\n",
        "for recipe in recommended_recipes:\n",
        "  print(f\"- {recipe}\")"
      ],
      "metadata": {
        "colab": {
          "base_uri": "https://localhost:8080/"
        },
        "id": "qcMsaNMEJOX9",
        "outputId": "24b1b962-8f0f-4799-f57d-72a70e00e5a0"
      },
      "execution_count": null,
      "outputs": [
        {
          "output_type": "stream",
          "name": "stdout",
          "text": [
            "Recommended recipes for you:\n"
          ]
        }
      ]
    },
    {
      "cell_type": "code",
      "source": [
        "#Planning a workout routine? Design a program that suggests exercises based on fitness level and available equipment. (Variables: fitness level, equipment; Operators: ==, !=; If-else: recommend exercises based on user's needs)\n",
        "def workout_routine_suggestions(fitness_level, equipment):\n",
        "  suggestions = []\n",
        "  if fitness_level == \"beginner\":\n",
        "    suggestions.append(\"Walking\")\n",
        "  elif fitness_level == \"intermediate\":\n",
        "    suggestions.append(\"Jogging\")\n",
        "  if \"dumbbells\" in equipment:\n",
        "    suggestions.append(\"Dumbbell\")\n",
        "  if \"weight lift\" in equipment:\n",
        "    suggestions.append(\"weight lift\")\n",
        "  return suggestions\n",
        "fitness_level = \"beginner\"\n",
        "equipment = [\"dumbbells\"]\n",
        "suggestions = workout_routine_suggestions(fitness_level, equipment)\n",
        "print(f\"Workout routine for {fitness_level} level with {equipment}:\")\n",
        "for exercise in suggestions:\n",
        "  print(f\"- {exercise}\")"
      ],
      "metadata": {
        "colab": {
          "base_uri": "https://localhost:8080/"
        },
        "id": "kDAk4LAvLPhe",
        "outputId": "23d943b4-5c01-4737-d142-69b09cda1d22"
      },
      "execution_count": null,
      "outputs": [
        {
          "output_type": "stream",
          "name": "stdout",
          "text": [
            "Workout routine for beginner level with ['dumbbells']:\n",
            "- Walking\n",
            "- Dumbbell\n"
          ]
        }
      ]
    },
    {
      "cell_type": "code",
      "source": [
        "#Managing your schedule? Create a program that helps you prioritize tasks based on deadlines and importance. (Variables: deadlines, importance; Operators: <, >; If-else: order tasks based on priority)\n",
        "class Task:\n",
        "  def __init__(self, deadline, importance):\n",
        "    self.deadline = deadline\n",
        "    self.importance = importance\n",
        "  def __repr__(self):\n",
        "    return f\"Task(deadline={self.deadline}, importance={self.importance})\"\n",
        "def prioritize_tasks(tasks):\n",
        "  def sort_key(task):\n",
        "    return (task.deadline, -task.importance)\n",
        "  return sorted(tasks, key=sort_key)\n",
        "tasks = [\n",
        "  Task(deadline=1, importance=3),\n",
        "  Task(deadline=3, importance=2),\n",
        "  Task(deadline=2, importance=5),\n",
        "  Task(deadline=1, importance=4),\n",
        "]\n",
        "print(\"Original task order:\")\n",
        "for task in tasks:\n",
        "  print(task)\n",
        "prioritized_tasks = prioritize_tasks(tasks)\n",
        "print(\"\\nPrioritized task order:\")\n",
        "for task in prioritized_tasks:\n",
        "  print(task)"
      ],
      "metadata": {
        "colab": {
          "base_uri": "https://localhost:8080/"
        },
        "id": "kvm8CixBNvXI",
        "outputId": "e8df0771-fe6a-4379-ce57-932b3c1d405a"
      },
      "execution_count": null,
      "outputs": [
        {
          "output_type": "stream",
          "name": "stdout",
          "text": [
            "Original task order:\n",
            "Task(deadline=1, importance=3)\n",
            "Task(deadline=3, importance=2)\n",
            "Task(deadline=2, importance=5)\n",
            "Task(deadline=1, importance=4)\n",
            "\n",
            "Prioritized task order:\n",
            "Task(deadline=1, importance=4)\n",
            "Task(deadline=1, importance=3)\n",
            "Task(deadline=2, importance=5)\n",
            "Task(deadline=3, importance=2)\n"
          ]
        }
      ]
    },
    {
      "cell_type": "code",
      "source": [
        "#Saving for a goal? Build a program that tracks your progress and suggests adjustments to your saving plan based on your desired timeline. (Variables: goal amount, timeline, current savings; Operators: +, -, *, /; If-else: suggest changes based on progress).\n",
        "def savings_plan_tracker(goal_amount, timeline, current_savings):\n",
        "  months_remaining = timeline - (current_savings / goal_amount * timeline)\n",
        "  monthly_savings_needed = goal_amount / timeline\n",
        "  progress_info = {\n",
        "    \"goal_amount\": goal_amount,\n",
        "    \"timeline\": timeline,\n",
        "    \"current_savings\": current_savings,\n",
        "    \"months_remaining\": months_remaining,\n",
        "    \"monthly_savings_needed\": monthly_savings_needed,\n",
        "  }\n",
        "  suggestions = {}\n",
        "  if months_remaining < 0:\n",
        "    suggestions[\"message\"] = \"Congratulations! You've reached your goal early!\"\n",
        "  elif months_remaining > timeline:\n",
        "    suggestions[\"message\"] = \"You're falling behind. Consider increasing your monthly savings.\"\n",
        "    suggestions[\"adjustment\"] = monthly_savings_needed - (current_savings / timeline)\n",
        "  else:\n",
        "    suggestions[\"message\"] = \"You're on track! Keep up the good work.\"\n",
        "  return progress_info, suggestions\n",
        "goal_amount = 10000\n",
        "timeline = 12\n",
        "current_savings = 5000\n",
        "progress_info, suggestions = savings_plan_tracker(goal_amount, timeline, current_savings)\n",
        "print(\"Progress information:\")\n",
        "for key, value in progress_info.items():\n",
        "  print(f\"- {key}: {value}\")\n",
        "print(\"Suggestions:\")\n",
        "for key, value in suggestions.items():\n",
        "  print(f\"- {key}: {value}\")"
      ],
      "metadata": {
        "colab": {
          "base_uri": "https://localhost:8080/"
        },
        "id": "8sAJEDlxOyoW",
        "outputId": "d2781a41-4fc8-4358-8639-43ba75347351"
      },
      "execution_count": null,
      "outputs": [
        {
          "output_type": "stream",
          "name": "stdout",
          "text": [
            "Progress information:\n",
            "- goal_amount: 10000\n",
            "- timeline: 12\n",
            "- current_savings: 5000\n",
            "- months_remaining: 6.0\n",
            "- monthly_savings_needed: 833.3333333333334\n",
            "Suggestions:\n",
            "- message: You're on track! Keep up the good work.\n"
          ]
        }
      ]
    },
    {
      "cell_type": "code",
      "source": [
        "#Symptom Checker: Create a program that asks users about their symptoms and suggests possible causes based on a knowledge base, recommending when to seek medical attention. (Variables: symptoms; Operators: ==, !=; If-else: match symptoms to possible causes)\n",
        "def symptom_checker():\n",
        "    knowledge_base = {\n",
        "        \"fever\": [\"common cold\", \"flu\", \"infection\", \"COVID-19\"],\n",
        "        \"cough\": [\"common cold\", \"flu\", \"allergies\", \"pneumonia\", \"COVID-19\"],\n",
        "        \"headache\": [\"migraine\", \"tension headache\", \"dehydration\", \"sinus infection\"],\n",
        "    }\n",
        "    user_symptoms = []\n",
        "    while True:\n",
        "        symptom = input(\"Enter a symptom (or type 'done': \")\n",
        "        if symptom.lower() == \"done\":\n",
        "            break\n",
        "        user_symptoms.append(symptom.lower())\n",
        "    possible_causes = []\n",
        "    for symptom in user_symptoms:\n",
        "        if symptom in knowledge_base:\n",
        "            possible_causes.extend(knowledge_base[symptom])\n",
        "    if possible_causes:\n",
        "        print(\"Based on your symptoms\")\n",
        "        for cause in set(possible_causes):\n",
        "            print(\"Covid\", cause)\n",
        "    else:\n",
        "        print(\"I'm not familiar with the symptoms Please consult a doctor.\")\n",
        "symptom_checker()"
      ],
      "metadata": {
        "colab": {
          "base_uri": "https://localhost:8080/"
        },
        "id": "k34NANBmYr7k",
        "outputId": "365217cd-0a02-4801-ab3a-0dc61d6b2f2e"
      },
      "execution_count": null,
      "outputs": [
        {
          "output_type": "stream",
          "name": "stdout",
          "text": [
            "Enter a symptom (or type 'done': fever\n",
            "Enter a symptom (or type 'done': done\n",
            "Based on your symptoms\n",
            "Covid infection\n",
            "Covid COVID-19\n",
            "Covid flu\n",
            "Covid common cold\n"
          ]
        }
      ]
    },
    {
      "cell_type": "code",
      "source": [
        "#Grade Calculator: Build a program that calculates student grades based on assignments, exams, and attendance, considering different weighting schemes for different factors. (Variables: grades, weights; Operators: +, -, *, /; If-else: apply different weights based on course policies)\n",
        "def calculate_grade(assignments, exams, attendance, weights):\n",
        "  assignment_average = sum(assignments) * weights[\"assignments\"] / len(assignments)\n",
        "  exam_average = sum(exams) * weights[\"exams\"] / len(exams)\n",
        "  attendance_contribution = attendance * weights[\"attendance\"]\n",
        "  final_grade = assignment_average + exam_average + attendance_contribution\n",
        "  return final_grade\n",
        "assignments = [80, 95, 78]\n",
        "exams = [90, 85]\n",
        "attendance = 92\n",
        "weights = {\"assignments\": 0.4, \"exams\": 0.5, \"attendance\": 0.1}\n",
        "final_grade = calculate_grade(assignments, exams, attendance, weights)\n",
        "print(f\"Final grade: {final_grade:.2f}\")"
      ],
      "metadata": {
        "colab": {
          "base_uri": "https://localhost:8080/"
        },
        "id": "kIGfWsQ-f05t",
        "outputId": "96541809-980c-4d83-b4fd-616b60624130"
      },
      "execution_count": null,
      "outputs": [
        {
          "output_type": "stream",
          "name": "stdout",
          "text": [
            "Final grade: 86.68\n"
          ]
        }
      ]
    },
    {
      "cell_type": "code",
      "source": [
        "#College Major Selector: Design a program that helps students choose a college major based on their interests, skills, and job market trends. (Variables: interests, skills, trends; Operators: ==, !=; If-else: match user profile to potential majors)\n",
        "def college_major_selector():\n",
        " interests = input(\"Enter your interests\").split(\",\")\n",
        " skills = input(\"Enter your skills\").split(\",\")\n",
        " trends = {\n",
        "   \"growing\": [\"Computer Science\", \"Engineering\", \"Healthcare\",],\n",
        "   \"stable\": [\"Business\", \"Education\", \"Accounting\", \"Finance\"],\n",
        " }\n",
        " potential_majors = []\n",
        " for interest in interests:\n",
        "   if interest in [\"science\", \"math\"]:\n",
        "     potential_majors.extend([\"Computer Science\", \"Physics\", \"Mathematics\"])\n",
        "   elif interest in [\"business\", \"finance\",]:\n",
        "     potential_majors.extend([\"Business\", \"Accounting\", \"Finance\",])\n",
        " for skill in skills:\n",
        "   if skill in [\"programming\", \"coding\", \"problem solving\"]:\n",
        "     potential_majors.append(\"Computer Science\")\n",
        "   elif skill in [\"writing\", \"communication\"]:\n",
        "     potential_majors.extend([\"English\",\"Communications\"])\n",
        " trending_majors = trends[\"growing\"]\n",
        " potential_majors = [major for major in potential_majors if major in trending_majors]\n",
        " if potential_majors:\n",
        "   print(\"Here are some your match your interests, skills, and trends:\")\n",
        "   for major in potential_majors:\n",
        "     print(f\"- {major}\")\n",
        " else:\n",
        "   print(\"Sorry, I couldn't find your interests or skills, or trends.\")\n",
        "college_major_selector()"
      ],
      "metadata": {
        "colab": {
          "base_uri": "https://localhost:8080/"
        },
        "id": "emojbPonircA",
        "outputId": "abae6389-f14a-405c-d91a-4d5a33a250a2"
      },
      "execution_count": null,
      "outputs": [
        {
          "output_type": "stream",
          "name": "stdout",
          "text": [
            "Enter your interestsengineering\n",
            "Enter your skillscoding\n",
            "Here are some your match your interests, skills, and trends:\n",
            "- Computer Science\n"
          ]
        }
      ]
    },
    {
      "cell_type": "code",
      "source": [
        "#Recycling Assistant: Design a program that identifies different types of waste and suggests proper recycling or disposal methods based on local regulations. (Variables: waste type; Operators: ==, !=; If-else: match waste to disposal methods)\n",
        "def recycling_assistant(waste_type):\n",
        "  disposal_methods = {\n",
        "    \"paper\": \"Recycle in blue bin\",\n",
        "    \"plastic bottle\": \"Recycle in blue bin\",\n",
        "    \"glass bottle\": \"Recycle in green bin\",\n",
        "    \"food scraps\": \"Compost or dispose in green bin\",\n",
        "    \"yard waste\": \"Compost or dispose in green bin\",\n",
        "  }\n",
        "  if waste_type in disposal_methods:\n",
        "    return disposal_methods[waste_type]\n",
        "  else:\n",
        "    return \"Please specify the type of waste more accurately.\"\n",
        "waste_type = \"plastic bottle\"\n",
        "disposal_method = recycling_assistant(waste_type)\n",
        "print(f\"For {waste_type}, you should {disposal_method}.\")"
      ],
      "metadata": {
        "colab": {
          "base_uri": "https://localhost:8080/"
        },
        "id": "4XtbEt1xnWkt",
        "outputId": "f658b3d3-9c9c-445a-a05f-1de020e58d86"
      },
      "execution_count": null,
      "outputs": [
        {
          "output_type": "stream",
          "name": "stdout",
          "text": [
            "For plastic bottle, you should Recycle in blue bin.\n"
          ]
        }
      ]
    },
    {
      "cell_type": "code",
      "source": [
        "#ASSIGNMENT\n",
        "#PASCALS TRIANGLE\n",
        "def pascal_triangle(num_rows):\n",
        "  triangle = []\n",
        "  for i in range(num_rows):\n",
        "    row = [1] * (i + 1)\n",
        "    for j in range(1, i):\n",
        "      row[j] = triangle[i - 1][j - 1] + triangle[i - 1][j]\n",
        "    triangle.append(row)\n",
        "  return triangle\n",
        "rows = 6\n",
        "triangle = pascal_triangle(rows)\n",
        "for row in triangle:\n",
        "  print(row)\n",
        "\n"
      ],
      "metadata": {
        "id": "FzXRPEk7RVfp",
        "colab": {
          "base_uri": "https://localhost:8080/"
        },
        "outputId": "1ddffe43-3b55-43a3-967f-60da0111dba2"
      },
      "execution_count": null,
      "outputs": [
        {
          "output_type": "stream",
          "name": "stdout",
          "text": [
            "[1]\n",
            "[1, 1]\n",
            "[1, 2, 1]\n",
            "[1, 3, 3, 1]\n",
            "[1, 4, 6, 4, 1]\n",
            "[1, 5, 10, 10, 5, 1]\n"
          ]
        }
      ]
    }
  ]
}
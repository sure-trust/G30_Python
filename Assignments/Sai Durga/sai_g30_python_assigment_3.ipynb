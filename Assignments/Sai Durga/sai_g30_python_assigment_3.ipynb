{
  "nbformat": 4,
  "nbformat_minor": 0,
  "metadata": {
    "colab": {
      "provenance": []
    },
    "kernelspec": {
      "name": "python3",
      "display_name": "Python 3"
    },
    "language_info": {
      "name": "python"
    }
  },
  "cells": [
    {
      "cell_type": "code",
      "execution_count": 12,
      "metadata": {
        "colab": {
          "base_uri": "https://localhost:8080/"
        },
        "id": "tV6GMKn6wggd",
        "outputId": "62ad74cd-edbe-4915-b177-0c804663c251"
      },
      "outputs": [
        {
          "output_type": "stream",
          "name": "stdout",
          "text": [
            "what is your name:sai\n",
            "welcome to interactive fiction game\n",
            "start the game! sai\n",
            "guess the letter\n",
            "_\n",
            "_\n",
            "_\n",
            "_\n",
            "guess the letter:h\n",
            "wrong\n",
            "you have 5 next chance\n",
            "_\n",
            "_\n",
            "_\n",
            "_\n",
            "guess the letter:t\n",
            "wrong\n",
            "you have 4 next chance\n",
            "_\n",
            "_\n",
            "_\n",
            "_\n",
            "guess the letter:m\n",
            "wrong\n",
            "you have 3 next chance\n",
            "_\n",
            "_\n",
            "_\n",
            "_\n",
            "guess the letter:l\n",
            "wrong\n",
            "you have 2 next chance\n",
            "_\n",
            "_\n",
            "_\n",
            "_\n",
            "guess the letter:j\n",
            "j\n",
            "_\n",
            "_\n",
            "_\n",
            "guess the letter:a\n",
            "j\n",
            "a\n",
            "_\n",
            "a\n",
            "guess the letter:v\n",
            "j\n",
            "a\n",
            "v\n",
            "a\n",
            "correct\n",
            "the word is : java\n"
          ]
        }
      ],
      "source": [
        "#1. Interactive Fiction Game(Hangman):\n",
        "import random\n",
        "name=input(\"what is your name:\")\n",
        "print(\"welcome to interactive fiction game\")\n",
        "print(\"start the game!\",name)\n",
        "words=[\"python\",\"aws\",\"java\",\"sap\",\"html\"]\n",
        "word=random.choice(words)\n",
        "print(\"guess the letter\")\n",
        "guesses=\"\"\n",
        "turns=6\n",
        "while turns >0:\n",
        "  failed=0\n",
        "  for char in word:\n",
        "    if char in guesses:\n",
        "      print(char)\n",
        "    else:\n",
        "      print(\"_\")\n",
        "      failed +=1\n",
        "  if failed==0:\n",
        "    print(\"correct\")\n",
        "    print(\"the word is :\", word)\n",
        "    break\n",
        "  guess=input(\"guess the letter:\")\n",
        "  guesses +=guess\n",
        "  if guess not in word:\n",
        "    turns -=1\n",
        "    print(\"wrong\")\n",
        "    print(\"you have\",turns,'next chance')\n",
        "    if turns==0:\n",
        "      print(\"you failed\")\n",
        "\n",
        "\n"
      ]
    },
    {
      "cell_type": "code",
      "source": [
        "#2. Grocery Budget Tracker:\n",
        "groceryitems = []\n",
        "prices = []\n",
        "total = 0\n",
        "\n",
        "while True:\n",
        "  groceryitem = input(\"Enter a items to buy(or type 'done'):\")\n",
        "  if groceryitem.lower() == \"done\":\n",
        "    break\n",
        "\n",
        "  else:\n",
        "    price = float(input(f\"Enter the price of a {groceryitem}:\"))\n",
        "    groceryitems.append(groceryitem)\n",
        "    prices.append(price)\n",
        "\n",
        "print(\"----your cart-----\")\n",
        "\n",
        "for groceryitem in groceryitems:\n",
        "    print(groceryitem,)\n",
        "\n",
        "for price in prices:\n",
        "      total += price\n",
        "      print(f\"your total is:{total}\")\n"
      ],
      "metadata": {
        "colab": {
          "base_uri": "https://localhost:8080/"
        },
        "id": "vIbjDyRA3xGc",
        "outputId": "6183aa82-a77d-422c-e147-d78f7491cf62"
      },
      "execution_count": 11,
      "outputs": [
        {
          "output_type": "stream",
          "name": "stdout",
          "text": [
            "Enter a items to buy(or type 'done'):oil\n",
            "Enter the price of a oil:100\n",
            "Enter a items to buy(or type 'done'):salt\n",
            "Enter the price of a salt:50\n",
            "Enter a items to buy(or type 'done'):done\n",
            "----your cart-----\n",
            "oil\n",
            "salt\n",
            "your total is:100.0\n",
            "your total is:150.0\n"
          ]
        }
      ]
    },
    {
      "cell_type": "code",
      "source": [
        "#3. Password Strength Checker:\n",
        "Password = input(\"Enter Password:\")\n",
        "if len(password) >= 10:\n",
        "  print(\"password is length\")\n",
        "else:\n",
        "  print(\"password is short\")\n",
        "\n",
        "if any(char.isupper() for char in password) and any(char.islower() for char in password):\n",
        "  print(\"upper and lowerr contain password\")\n",
        "else:\n",
        "  print(\"upper and lowerr for better\")\n",
        "\n",
        "if any(char.isdigit() for char in password):\n",
        "  print(\"contain digit\")\n",
        "else:\n",
        "  print(\"digits for better\")"
      ],
      "metadata": {
        "colab": {
          "base_uri": "https://localhost:8080/"
        },
        "id": "r8ldr40YLOr3",
        "outputId": "1a5f35b5-dbf3-4d81-c84d-bed5abb14e6d"
      },
      "execution_count": 26,
      "outputs": [
        {
          "output_type": "stream",
          "name": "stdout",
          "text": [
            "Enter Password:saidurga12\n",
            "password is length\n",
            "upper and lowerr contain password\n",
            "contain digit\n"
          ]
        }
      ]
    },
    {
      "cell_type": "code",
      "source": [
        "#4.Personal budgetting app\n",
        "def get_income():\n",
        "    while True:\n",
        "        try:\n",
        "            income = float(input(\"Enter your income: \"))\n",
        "            if income < 0:\n",
        "                print(\"Income cannot be negative. Please enter a valid amount.\")\n",
        "            else:\n",
        "                return income\n",
        "        except ValueError:\n",
        "            print(\"Invalid input. Please enter a valid number for income.\")\n",
        "\n",
        "def get_expenses():\n",
        "    expenses = []\n",
        "    while True:\n",
        "        expense = input(\"Enter an expense (or 'done' to finish): \")\n",
        "        if expense.lower() == 'done':\n",
        "            break\n",
        "        try:\n",
        "            expense_amount = float(expense)\n",
        "            if expense_amount < 0:\n",
        "                print(\"Expense cannot be negative. Please enter a valid amount.\")\n",
        "            else:\n",
        "                expenses.append(expense_amount)\n",
        "        except ValueError:\n",
        "            print(\"Invalid input. Please enter a valid number for expenses.\")\n",
        "\n",
        "    return expenses\n",
        "\n",
        "def calculate_balance(income, expenses):\n",
        "    total_expenses = sum(expenses)\n",
        "    balance = income - total_expenses\n",
        "    return balance\n",
        "\n",
        "def main():\n",
        "    print(\"Welcome to the Personal Budgeting App!\")\n",
        "\n",
        "    income = get_income()\n",
        "    expenses = get_expenses()\n",
        "\n",
        "    print(\"\\nCalculating your budget...\\n\")\n",
        "\n",
        "    balance = calculate_balance(income, expenses)\n",
        "\n",
        "    print(f\"Your Income: ${income:.2f}\")\n",
        "    print(f\"Your Expenses: ${sum(expenses):.2f}\")\n",
        "    print(f\"Your Balance: ${balance:.2f}\")\n",
        "\n",
        "    if balance < 0:\n",
        "        print(\"Warning: You have overspent your budget.\")\n",
        "\n",
        "if __name__ == \"__main__\":\n",
        "    main()\n"
      ],
      "metadata": {
        "colab": {
          "base_uri": "https://localhost:8080/"
        },
        "id": "dT4Kuy6PiD1F",
        "outputId": "0acef47f-51d5-443e-b6a5-12392348e483"
      },
      "execution_count": 25,
      "outputs": [
        {
          "output_type": "stream",
          "name": "stdout",
          "text": [
            "Welcome to the Personal Budgeting App!\n",
            "Enter your income: 1000\n",
            "Enter an expense (or 'done' to finish): 500\n",
            "Enter an expense (or 'done' to finish): 400\n",
            "Enter an expense (or 'done' to finish): 100\n",
            "Enter an expense (or 'done' to finish): done\n",
            "\n",
            "Calculating your budget...\n",
            "\n",
            "Your Income: $1000.00\n",
            "Your Expenses: $1000.00\n",
            "Your Balance: $0.00\n"
          ]
        }
      ]
    },
    {
      "cell_type": "code",
      "source": [
        "#5.quiz with feedback\n",
        "def get_user_input(question):\n",
        "  while True:\n",
        "    answer = input(question)\n",
        "    if answer.strip() != \"\":\n",
        "      return answer.strip()\n",
        "    else:\n",
        "      print(\"Please enter a valid answer.\")\n",
        "\n",
        "def quiz(questions):\n",
        "  score = 0\n",
        "  feedback = \"\"\n",
        "\n",
        "  for question, options, answer, hint, explanation in questions:\n",
        "    print(question)\n",
        "    for option in options:\n",
        "      print(f\"- {option}\")\n",
        "\n",
        "    user_answer = get_user_input(\"Enter your answer: \")\n",
        "\n",
        "    if user_answer.lower() == answer.lower():\n",
        "      score += 1\n",
        "      feedback += \"Correct! \"\n",
        "    else:\n",
        "      feedback += f\"Incorrect. The correct answer is '{answer}'. \"\n",
        "      if hint:\n",
        "        feedback += f\"Hint: {hint}\\n\"\n",
        "      if explanation:\n",
        "        feedback += f\"Explanation: {explanation}\\n\"\n",
        "\n",
        "  print(f\"\\nYour score: {score}/{len(questions)}\")\n",
        "  print(feedback)\n",
        "\n",
        "questions = [\n",
        "  (\"Which number is the largest?\", [\"10\", \"5\", \"20\", \"15\"], \"20\", \"Think about the order of numbers.\", None),\n",
        "  (\"What is the color of the sky?\", [\"Green\", \"Blue\", \"Red\", \"Yellow\"], \"blue\", None, \"Look up on a clear day!\"),\n",
        "]\n",
        "\n",
        "quiz(questions)"
      ],
      "metadata": {
        "colab": {
          "base_uri": "https://localhost:8080/"
        },
        "id": "zoKQO1SLj6c2",
        "outputId": "5c618293-fbde-45ed-bbe5-536a65b42337"
      },
      "execution_count": 32,
      "outputs": [
        {
          "output_type": "stream",
          "name": "stdout",
          "text": [
            "Which number is the largest?\n",
            "- 10\n",
            "- 5\n",
            "- 20\n",
            "- 15\n",
            "Enter your answer: 20\n",
            "What is the color of the sky?\n",
            "- Green\n",
            "- Blue\n",
            "- Red\n",
            "- Yellow\n",
            "Enter your answer: blue\n",
            "\n",
            "Your score: 2/2\n",
            "Correct! Correct! \n"
          ]
        }
      ]
    },
    {
      "cell_type": "code",
      "source": [
        "#6.Currency converter\n",
        "exchange_rates = {\n",
        "        \"India\": 85.3,\n",
        "        \"UK\": 0.95,\n",
        "        \"China\": 62.03\n",
        "}\n",
        "\n",
        "amount_in_USA = float(input(\"Enter the amount in USA: \"))\n",
        "target_currency = input(\"Enter the target currency (INR, UK, or China): \").upper()\n",
        "\n",
        "if target_currency not in exchange_rates:\n",
        "    print(\"Invalid currency code.\")\n",
        "else:\n",
        "    converted_amount = amount_in_USA * exchange_rates[target_currency]\n",
        "    print(f\"{amount_in_USA:.2f} USA is approximately {converted_amount:.2f} {target_currency}\")\n"
      ],
      "metadata": {
        "colab": {
          "base_uri": "https://localhost:8080/"
        },
        "id": "o36aIB2KnbG_",
        "outputId": "1596661c-ab9c-4c22-f186-8582d1319e8b"
      },
      "execution_count": 37,
      "outputs": [
        {
          "output_type": "stream",
          "name": "stdout",
          "text": [
            "Enter the amount in USA: 5\n",
            "Enter the target currency (INR, UK, or China): UK\n",
            "5.00 USA is approximately 4.75 UK\n"
          ]
        }
      ]
    },
    {
      "cell_type": "code",
      "source": [
        "#1.Write a program that takes an integer as input and determines if it is even or odd using an if-else statement.\n",
        "num=int(input(\"Enter the Number:\"))\n",
        "if num%2==0:\n",
        "  print(\"{0} is even\".format(num))\n",
        "else:\n",
        "  print(\"{0} is odd\".format(num))"
      ],
      "metadata": {
        "colab": {
          "base_uri": "https://localhost:8080/"
        },
        "id": "_LjsyLXLrdwb",
        "outputId": "d493fb67-5037-4377-a412-12327c28cd16"
      },
      "execution_count": 38,
      "outputs": [
        {
          "output_type": "stream",
          "name": "stdout",
          "text": [
            "Enter the Number:12\n",
            "12 is even\n"
          ]
        }
      ]
    },
    {
      "cell_type": "code",
      "source": [
        "#2.Write a program that takes a person's age as input and determines if they are eligible to vote using an if-else statement.\n",
        "age =int(input(\"Enter the age:\"))\n",
        "if age>18:\n",
        "  print(\"you are eligible for voting\")\n",
        "elif age==18:\n",
        "  print(\"you are eligible for voting\")\n",
        "else:\n",
        "  print(\"you are not eligible for voting\")"
      ],
      "metadata": {
        "colab": {
          "base_uri": "https://localhost:8080/"
        },
        "id": "_0AKg5zLrhD0",
        "outputId": "311f3148-0fd2-4437-fc61-d49f5003aeea"
      },
      "execution_count": 39,
      "outputs": [
        {
          "output_type": "stream",
          "name": "stdout",
          "text": [
            "Enter the age:13\n",
            "you are not eligible for voting\n"
          ]
        }
      ]
    },
    {
      "cell_type": "code",
      "source": [
        "#3. Write a program that takes a year as input and determines if it is a leap year using an if-else statement.\n",
        "''' 366 = leap year and it feb add in 29, every 4 years,if its / 4 /100 is leap year\n",
        "'''\n",
        "def cheackyear(year):\n",
        "  return (((year % 4==0) and (year % 100 !=0)) or (year % 400 == 0))\n",
        "year = int(input(\"Enter a year: \"))\n",
        "if (cheackyear(year)):\n",
        "  print('leapyear')\n",
        "else:\n",
        "  print(\"not a leapyear\")"
      ],
      "metadata": {
        "colab": {
          "base_uri": "https://localhost:8080/"
        },
        "id": "ltiqVRWNrkgc",
        "outputId": "c9ed1401-2a29-4244-fac6-6bda5f7fec95"
      },
      "execution_count": 40,
      "outputs": [
        {
          "output_type": "stream",
          "name": "stdout",
          "text": [
            "Enter a year: 2001\n",
            "not a leapyear\n"
          ]
        }
      ]
    },
    {
      "cell_type": "code",
      "source": [
        "#5. Write a program that takes a character as input and determines if it is uppercase or lowercase using an if-else statement.\n",
        "string=input(\"Enter the Letter:\")\n",
        "if string.isupper():\n",
        "  print(f\"{string} is uppercase.\")\n",
        "else:\n",
        "    if string.islower():\n",
        "      print(f\"{string} is lowercase.\")\n",
        "    else:\n",
        "        print(f\"{string} is not a letter\")"
      ],
      "metadata": {
        "colab": {
          "base_uri": "https://localhost:8080/"
        },
        "id": "p2XfP35nroM9",
        "outputId": "cff23444-3056-4f5d-8660-ed5a79acc84b"
      },
      "execution_count": 41,
      "outputs": [
        {
          "output_type": "stream",
          "name": "stdout",
          "text": [
            "Enter the Letter:k\n",
            "k is lowercase.\n"
          ]
        }
      ]
    },
    {
      "cell_type": "code",
      "source": [
        "#6 Matrix Multiplications\n",
        "def matrix_multiply(matrix_a, matrix_b):\n",
        "    result_matrix = [[0 for _ in range(len(matrix_b[0]))] for _ in range(len(matrix_a))]\n",
        "\n",
        "    for i in range(len(matrix_a)):\n",
        "        for j in range(len(matrix_b[0])):\n",
        "            for k in range(len(matrix_b)):\n",
        "                result_matrix[i][j] += matrix_a[i][k] * matrix_b[k][j]\n",
        "\n",
        "    return result_matrix\n",
        "matrix_a = [\n",
        "    [1, 2, 3],\n",
        "    [4, 5, 6],\n",
        "    [8, 5, 6],\n",
        "]\n",
        "matrix_b = [\n",
        "    [7, 8, 10],\n",
        "    [9, 10, 20],\n",
        "    [11, 12, 30],\n",
        "]\n",
        "\n",
        "result_matrix = matrix_multiply(matrix_a, matrix_b)\n",
        "\n",
        "print(\"Matrix A:\")\n",
        "for row in matrix_a:\n",
        "    print(row)\n",
        "\n",
        "print(\"\\nMatrix B:\")\n",
        "for row in matrix_b:\n",
        "    print(row)\n",
        "\n",
        "print(\"\\nResultant Matrix:\")\n",
        "for row in result_matrix:\n",
        "    print(row)"
      ],
      "metadata": {
        "colab": {
          "base_uri": "https://localhost:8080/"
        },
        "id": "9QJ1KnJrrssW",
        "outputId": "7f2a1e66-50a3-487d-fde4-42b24e7ea1ce"
      },
      "execution_count": 42,
      "outputs": [
        {
          "output_type": "stream",
          "name": "stdout",
          "text": [
            "Matrix A:\n",
            "[1, 2, 3]\n",
            "[4, 5, 6]\n",
            "[8, 5, 6]\n",
            "\n",
            "Matrix B:\n",
            "[7, 8, 10]\n",
            "[9, 10, 20]\n",
            "[11, 12, 30]\n",
            "\n",
            "Resultant Matrix:\n",
            "[58, 64, 140]\n",
            "[139, 154, 320]\n",
            "[167, 186, 360]\n"
          ]
        }
      ]
    }
  ]
}
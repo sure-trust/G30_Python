{
  "nbformat": 4,
  "nbformat_minor": 0,
  "metadata": {
    "colab": {
      "provenance": []
    },
    "kernelspec": {
      "name": "python3",
      "display_name": "Python 3"
    },
    "language_info": {
      "name": "python"
    }
  },
  "cells": [
    {
      "cell_type": "code",
      "execution_count": 2,
      "metadata": {
        "id": "MVvfhcuLRNfB",
        "colab": {
          "base_uri": "https://localhost:8080/"
        },
        "outputId": "b8835b5c-1bea-4631-ea49-56a5f224d17a"
      },
      "outputs": [
        {
          "output_type": "stream",
          "name": "stdout",
          "text": [
            "enter number:2\n",
            "even\n"
          ]
        }
      ],
      "source": [
        "#1. Write a program that takes an integer as input and determines if it is even or odd using an if-else statement.\n",
        "n = int(input('enter number:'))\n",
        "if n % 2 == 0:\n",
        "    print('even')\n",
        "else:\n",
        "    print('odd')"
      ]
    },
    {
      "cell_type": "code",
      "source": [
        "#2. Write a program that takes a person's age as input and determines if they are eligible to vote using an if-else statement.\n",
        "age = int(input('enter your age:'))\n",
        "if age >= 18:\n",
        "    print('you are eligable for voting')\n",
        "else:\n",
        "    print('you are not eligable for voating')"
      ],
      "metadata": {
        "colab": {
          "base_uri": "https://localhost:8080/"
        },
        "id": "I6fIuC4CR1dk",
        "outputId": "277e1d33-72c0-4579-a485-2508ce3e326b"
      },
      "execution_count": 4,
      "outputs": [
        {
          "output_type": "stream",
          "name": "stdout",
          "text": [
            "enter your age:20\n",
            "you are eligable for voting\n"
          ]
        }
      ]
    },
    {
      "cell_type": "code",
      "source": [
        "#3. Write a program that takes a year as input and determines if it is a leap year using an if-else statement.\n",
        "year = int(input('enter the year:'))\n",
        "if ( year % 4 == 0 and year % 100 != 0) or year % 400 == 0:\n",
        "    print('it is leap year')\n",
        "else:\n",
        "    print('it is not leap year')\n",
        ""
      ],
      "metadata": {
        "colab": {
          "base_uri": "https://localhost:8080/"
        },
        "id": "WQdYfg_2R1Xx",
        "outputId": "079de8bc-f08f-4335-90a8-5f3ab9ae7327"
      },
      "execution_count": 5,
      "outputs": [
        {
          "output_type": "stream",
          "name": "stdout",
          "text": [
            "enter the year:2000\n",
            "it is leap year\n"
          ]
        }
      ]
    },
    {
      "cell_type": "code",
      "source": [
        "#4. Write a program that takes the price of a product and the discount percentage as input and calculates the discounted price using an if-else statement.\n",
        "price = int(input('enter the price :'))\n",
        "discount_percentage = int(input('enter the discount:'))\n",
        "discount_price = price - (price * discount_percentage / 100)\n",
        "print(discount_price)\n",
        "if discount_price < 0:\n",
        "    print(\"Discount exceeds the price!\")\n",
        "else:\n",
        "    print(\"Discounted price:\", discount_price)"
      ],
      "metadata": {
        "colab": {
          "base_uri": "https://localhost:8080/"
        },
        "id": "vvLGM5JmR1Vb",
        "outputId": "1ae8693c-276c-49f7-e766-141efe12326e"
      },
      "execution_count": 6,
      "outputs": [
        {
          "output_type": "stream",
          "name": "stdout",
          "text": [
            "enter the price :1000\n",
            "enter the discount:50\n",
            "500.0\n",
            "Discounted price: 500.0\n"
          ]
        }
      ]
    },
    {
      "cell_type": "code",
      "source": [
        "#5. Write a program that takes a character as input and determines if it is uppercase or lowercase using an if-else statement.\n",
        "char = input('enter the charecter:')\n",
        "if char.isupper():\n",
        "    print('charecter s upper case')\n",
        "elif char.islower():\n",
        "    print('charecter is lower')\n",
        "else:\n",
        "    print('please enter the charecters')\n",
        "\n",
        "        #or#\n",
        "char = input('enter the charecter:')\n",
        "if 'A' <= char <= 'Z':\n",
        "    print('charecter is upper case')\n",
        "elif 'a' <= char <='z':\n",
        "    print('charecter is lower')\n",
        "else:\n",
        "    print('please enter the charecters')"
      ],
      "metadata": {
        "colab": {
          "base_uri": "https://localhost:8080/"
        },
        "id": "w_a25mijR1Rw",
        "outputId": "2ba6060a-e001-4243-9aaf-d8294a5c525e"
      },
      "execution_count": 7,
      "outputs": [
        {
          "output_type": "stream",
          "name": "stdout",
          "text": [
            "enter the charecter:h\n",
            "charecter is lower\n",
            "enter the charecter:H\n",
            "charecter s upper case\n"
          ]
        }
      ]
    },
    {
      "cell_type": "code",
      "source": [
        "#6. Write a program that takes a number as input and determines if it is positive, negative.\n",
        "N = int(input('enter the number:'))\n",
        "if N > 0:\n",
        "    print('positive number')\n",
        "else:\n",
        "    print('negative number')\n",
        "\n",
        ""
      ],
      "metadata": {
        "colab": {
          "base_uri": "https://localhost:8080/"
        },
        "id": "W3qrHqGMR1P3",
        "outputId": "d6f8e2c4-6b4d-4471-a641-f9c8b57240e6"
      },
      "execution_count": 8,
      "outputs": [
        {
          "output_type": "stream",
          "name": "stdout",
          "text": [
            "enter the number:5\n",
            "positive number\n"
          ]
        }
      ]
    },
    {
      "cell_type": "code",
      "source": [
        "'''1. **Print a pattern**: Write a Python program to print the following pattern using nested loops:\n",
        "   ```\n",
        "   *\n",
        "   **\n",
        "   ***\n",
        "   ****\n",
        "   *****'''\n",
        "n = int(input('enter the num:'))\n",
        "for i in range(1,n+1):\n",
        "    for j in range(1,i+1):\n",
        "        print('*',end='' )\n",
        "    print()"
      ],
      "metadata": {
        "colab": {
          "base_uri": "https://localhost:8080/"
        },
        "id": "YCCu_dVpR1OB",
        "outputId": "7ad4cb34-d04a-472b-c954-9d87b5c6e308"
      },
      "execution_count": 9,
      "outputs": [
        {
          "output_type": "stream",
          "name": "stdout",
          "text": [
            "enter the num:5\n",
            "*\n",
            "**\n",
            "***\n",
            "****\n",
            "*****\n"
          ]
        }
      ]
    },
    {
      "cell_type": "code",
      "source": [
        "#Write a Python program that prints the multiplication table (from 1 to 10) using nested loops.\n",
        "n = int(input('enter the num:'))\n",
        "for i in range(1,n+1):\n",
        "    for j in range(1,10+1):\n",
        "        print(i,'X' , j ,'=' ,i*j)\n",
        "    print()\n"
      ],
      "metadata": {
        "colab": {
          "base_uri": "https://localhost:8080/"
        },
        "id": "1RWTF5aHR1Mh",
        "outputId": "0815821d-cba4-416e-bbe8-7a7d59c7b87b"
      },
      "execution_count": 11,
      "outputs": [
        {
          "output_type": "stream",
          "name": "stdout",
          "text": [
            "enter the num:2\n",
            "1 X 1 = 1\n",
            "1 X 2 = 2\n",
            "1 X 3 = 3\n",
            "1 X 4 = 4\n",
            "1 X 5 = 5\n",
            "1 X 6 = 6\n",
            "1 X 7 = 7\n",
            "1 X 8 = 8\n",
            "1 X 9 = 9\n",
            "1 X 10 = 10\n",
            "\n",
            "2 X 1 = 2\n",
            "2 X 2 = 4\n",
            "2 X 3 = 6\n",
            "2 X 4 = 8\n",
            "2 X 5 = 10\n",
            "2 X 6 = 12\n",
            "2 X 7 = 14\n",
            "2 X 8 = 16\n",
            "2 X 9 = 18\n",
            "2 X 10 = 20\n",
            "\n"
          ]
        }
      ]
    },
    {
      "cell_type": "code",
      "source": [
        "#Write a Python program using nested loops to find all prime numbers within a given range.\n",
        "n = int(input('enter the number:'))\n",
        "for i in range(2,n+1):\n",
        "    ind = True\n",
        "    for j in range(2,i):\n",
        "        if i % j == 0:\n",
        "            ind = False\n",
        "    if ind == True:\n",
        "        print(i)"
      ],
      "metadata": {
        "colab": {
          "base_uri": "https://localhost:8080/"
        },
        "id": "SyPgk9kPR1Kk",
        "outputId": "d6248a46-de87-4bfe-fedb-814d1fa4b5f6"
      },
      "execution_count": 12,
      "outputs": [
        {
          "output_type": "stream",
          "name": "stdout",
          "text": [
            "enter the number:20\n",
            "2\n",
            "3\n",
            "5\n",
            "7\n",
            "11\n",
            "13\n",
            "17\n",
            "19\n"
          ]
        }
      ]
    },
    {
      "cell_type": "code",
      "source": [
        "#Write a Python program to print the Fibonacci sequence's first `n` numbers using a loop within a loop.\n",
        "n = int(input('enter the number:'))\n",
        "a = 0\n",
        "b = 1\n",
        "while b <= n:\n",
        "    c = a+b\n",
        "    print(c)\n",
        "    a = b\n",
        "    b = c\n"
      ],
      "metadata": {
        "colab": {
          "base_uri": "https://localhost:8080/"
        },
        "id": "suI3h3h1R1JB",
        "outputId": "9e6155ac-c1f5-4d22-c7de-9f38372717be"
      },
      "execution_count": 14,
      "outputs": [
        {
          "output_type": "stream",
          "name": "stdout",
          "text": [
            "enter the number:10\n",
            "1\n",
            "2\n",
            "3\n",
            "5\n",
            "8\n",
            "13\n"
          ]
        }
      ]
    },
    {
      "cell_type": "code",
      "source": [
        "#pascals Traingle\n",
        "rows = int(input(\"Enter the number of rows for Pascal's Triangle: \"))\n",
        "triangle = []\n",
        "for i in range(rows):\n",
        "    row = [1]\n",
        "    if triangle:\n",
        "        last_row = triangle[-1]\n",
        "        for j in range(1, i):\n",
        "            row.append(last_row[j - 1] + last_row[j])\n",
        "        row.append(1)\n",
        "    triangle.append(row)\n",
        "for row in triangle:\n",
        "    for element in row:\n",
        "        print(element, end=\" \")\n",
        "    print()"
      ],
      "metadata": {
        "id": "3pUNJzwBR1FX"
      },
      "execution_count": null,
      "outputs": []
    },
    {
      "cell_type": "code",
      "source": [
        "n = 10\n",
        "for i in range(1,n+1):\n",
        "    for j in range(1,10+1):\n",
        "        r = i * j\n",
        "        s = str(r)\n",
        "        if len(s) < 2:\n",
        "            print(f\"0{r}\",end=' ')\n",
        "        else:\n",
        "            print(r,end = ' ')\n",
        "    print()\n",
        "\n",
        ""
      ],
      "metadata": {
        "id": "z2D0bpm-R1DB"
      },
      "execution_count": null,
      "outputs": []
    }
  ]
}
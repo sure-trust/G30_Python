{
  "nbformat": 4,
  "nbformat_minor": 0,
  "metadata": {
    "colab": {
      "provenance": []
    },
    "kernelspec": {
      "name": "python3",
      "display_name": "Python 3"
    },
    "language_info": {
      "name": "python"
    }
  },
  "cells": [
    {
      "cell_type": "code",
      "execution_count": null,
      "metadata": {
        "id": "X52QI2u58prV"
      },
      "outputs": [],
      "source": [
        "#1.Total amount to be paid for your items in your cart\n",
        "\n",
        "price = [100, 200, 300, 500, 250]\n",
        "\n",
        "quantities = [5, 6, 10, 2, 3]\n",
        "\n",
        "for i in range(5):\n",
        "    print(\"Price and quantity for item\", i + 1)\n",
        "    print(\" Price =\", price[i])\n",
        "    print(\" Quantity =\", quantities[i])\n",
        "    print(\"Total Bill:\")\n",
        "    if quantities[i] > 5:\n",
        "        print(\"Price after discount:\")\n",
        "        print((price[i] * quantities[i]) - (price[i] * 0.1 * quantities[i]))\n",
        "    else:\n",
        "        print(price[i] * quantities[i])"
      ]
    },
    {
      "cell_type": "code",
      "source": [
        "#2.Budget\n",
        "\n",
        "budget = int(input(\"Enter budget of yours \"))\n",
        "item_prices = [200, 500, 450, 1000]\n",
        "sum_items = 0\n",
        "for price in item_prices:\n",
        "    sum_items += price\n",
        "print(\"Sum of items:\", sum_items)\n",
        "if sum_items <= budget:\n",
        "    print(\"Remaining amount =\", budget - sum_items)\n",
        "else:\n",
        "    shortfall = sum_items - budget\n",
        "    print(\"Insufficient amount to purchase:\", shortfall)\n",
        "    sum_without_item = 0\n",
        "\n",
        "    for price in item_prices:\n",
        "        if shortfall <= price:\n",
        "            sum_without_item = sum_items - price\n",
        "            break\n",
        "print(\"After removing the item:\", sum_without_item)\n",
        "\n"
      ],
      "metadata": {
        "colab": {
          "base_uri": "https://localhost:8080/"
        },
        "id": "FDu9svGR-jp2",
        "outputId": "8a0af92c-6e41-4d7b-a4ad-9164d88749a9"
      },
      "execution_count": null,
      "outputs": [
        {
          "output_type": "stream",
          "name": "stdout",
          "text": [
            "Enter budget of yours 2000\n",
            "Sum of items: 2150\n",
            "Insufficient amount to purchase: 150\n",
            "After removing the item: 1950\n"
          ]
        }
      ]
    },
    {
      "cell_type": "code",
      "source": [
        "#3.Fuel cost and time to travel\n",
        "distance=int(input(\"Enter distance in miles:\"))\n",
        "gas_price=int(input(\"Enter gas price:\"))\n",
        "way=str(input(\"enter way like highway or city:\"))\n",
        "if way==\"highway\":\n",
        "    mileage=25\n",
        "else:\n",
        "    mileage=30\n",
        "fuel_cost=(distance/mileage)*gas_price\n",
        "travel_time=(distance*1.6)*20\n",
        "print(\"Fuel Cost=\",fuel_cost,\"Travel Time in mins =\",travel_time)\n"
      ],
      "metadata": {
        "colab": {
          "base_uri": "https://localhost:8080/"
        },
        "id": "K149TH2k_Adl",
        "outputId": "1f13cf75-4549-4672-8065-ed1fba33362c"
      },
      "execution_count": null,
      "outputs": [
        {
          "output_type": "stream",
          "name": "stdout",
          "text": [
            "Enter distance in miles:100\n",
            "Enter gas price:45\n",
            "enter way like highway or city:city\n",
            "Fuel Cost= 150.0 Travel Time in mins = 3200.0\n"
          ]
        }
      ]
    },
    {
      "cell_type": "code",
      "source": [
        "#4.Based on type of weather and amenities carry required items\n",
        "\n",
        "weather=str(input(\"Enter weather (sunny,cold)\"))\n",
        "amenities=str(input(\"Enter amentities (Trecking,fishing,campfire)\"))\n",
        "if weather==\"sunny\":\n",
        "    if amenities==\"trecking\":\n",
        "        print(\"Get climbing equipments,water bottle,loose clothes,hat,sunglasses\")\n",
        "    elif amenities==\"fishing\":\n",
        "        print(\"Get fishing equipments,water bottle,loose clothes,hat,sunglasses,barbecque\")\n",
        "    else:\n",
        "        print(\"Get water bottle,loose clothes,hat,sunglasses\")\n",
        "else:\n",
        "    if amenities==\"campfire\":\n",
        "        print(\"Get sweater,raincoats and equipment for campfire like matchbox \")\n",
        "    else:\n",
        "        print(\"Get heater ,sweater\")"
      ],
      "metadata": {
        "colab": {
          "base_uri": "https://localhost:8080/"
        },
        "id": "ClMXXp3E_cxX",
        "outputId": "59009e2e-fa4e-4988-9c9c-7cb33872d7e2"
      },
      "execution_count": null,
      "outputs": [
        {
          "output_type": "stream",
          "name": "stdout",
          "text": [
            "Enter weather (sunny,cold)cold\n",
            "Enter amentities (Trecking,fishing,campfire)campfire\n",
            "Get sweater,raincoats and equipment for campfire like matchbox \n"
          ]
        }
      ]
    },
    {
      "cell_type": "code",
      "source": [
        "#5.Based on user peferences of taste suggest some restraunts\n",
        "\n",
        "budget=int(input(\"Enter budget to eat\"))\n",
        "peference=str(input(\"Enter veg/nonveg:\"))\n",
        "if budget<=1500:\n",
        "    if peference==\"veg\":\n",
        "        print(\"Goto Green leaf\")\n",
        "    else:\n",
        "        print(\"Goto Citysquare Mall\")\n",
        "else:\n",
        "    if peference==\"nonveg\":\n",
        "        print(\"Goto ViaSouth\")\n",
        "    else:\n",
        "        print(\"Goto 7thHeaven\")"
      ],
      "metadata": {
        "colab": {
          "base_uri": "https://localhost:8080/"
        },
        "id": "CZY_yApm_4Ja",
        "outputId": "d18b4022-de7b-4f77-d9f8-17b2426c71af"
      },
      "execution_count": null,
      "outputs": [
        {
          "output_type": "stream",
          "name": "stdout",
          "text": [
            "Enter budget to eat2000\n",
            "Enter veg/nonveg:veg\n",
            "Goto 7thHeaven\n"
          ]
        }
      ]
    },
    {
      "cell_type": "code",
      "source": [
        "#6a.Based on risk tell user where to invest and print returns\n",
        "\n",
        "risk=float(input(\"Enter a number such that user can take risk(2-5):\"))\n",
        "if risk<=3:\n",
        "    if risk<3:\n",
        "        print(\"Gold :\")\n",
        "        returns=5\n",
        "    else:\n",
        "        print(\"Stocks\")\n",
        "        returns=10\n",
        "else:\n",
        "    if risk<5:\n",
        "        print(\"Real estate\")\n",
        "        returns=8\n",
        "    else:\n",
        "        print(\"Cryptocurrency\")\n",
        "        returns=15\n",
        "print(returns)"
      ],
      "metadata": {
        "colab": {
          "base_uri": "https://localhost:8080/"
        },
        "id": "j4Wd_2QKAN_K",
        "outputId": "a31c0043-ee21-4145-a11a-907043af8412"
      },
      "execution_count": null,
      "outputs": [
        {
          "output_type": "stream",
          "name": "stdout",
          "text": [
            "Enter a number such that user can take risk(2-5):3\n",
            "Stocks\n",
            "10\n"
          ]
        }
      ]
    },
    {
      "cell_type": "code",
      "source": [
        "#6.b suggest user recipes to cook if user provides ingredients and preferences\n",
        "\n",
        "ingredients=str(input(\"Enter like veggies,flour,rice: \"))\n",
        "restrictions=str(input(\"Enter like on diet/no diet: \"))\n",
        "if ingredients==\"flour\":\n",
        "    if restrictions!=\"on diet\":\n",
        "        print(\"Gulab Jamun,Cake,Laddu\")\n",
        "    else:\n",
        "        print(\"Roti ,bread\")\n",
        "elif ingredients==\"rice\":\n",
        "    if restrictions==\"on diet\":\n",
        "        print(\"No rice\")\n",
        "    else:\n",
        "        print(\"Briyani!!\")\n",
        "else:\n",
        "    if restrictions==\"on diet\":\n",
        "        print(\"Salad ,oats,juices,fruits\")\n",
        "    else:\n",
        "        print(\"aloo matar,bendi masala\")"
      ],
      "metadata": {
        "colab": {
          "base_uri": "https://localhost:8080/"
        },
        "id": "0cboPhLZAj0a",
        "outputId": "19d2f0e4-1b66-4d3b-afb0-1eff9d55d321"
      },
      "execution_count": null,
      "outputs": [
        {
          "output_type": "stream",
          "name": "stdout",
          "text": [
            "Enter like veggies,flour,rice: flour\n",
            "Enter like on diet/no diet: diet\n",
            "Gulab Jamun,Cake,Laddu\n"
          ]
        }
      ]
    },
    {
      "cell_type": "code",
      "source": [
        "#7.Suggset user to chose equipment based on his fitness level\n",
        "\n",
        "fitness_level=str(input(\"Enter fitness level(beginner/intermediate/advanced\"))\n",
        "if fitness_level==\"beginner\":\n",
        "    print(\"No equipment needed\")\n",
        "    print(\"walking,push-ups\")\n",
        "elif fitness_level==\"intermediate\":\n",
        "    print(\"Running,skipping,dumb bells,planks\")\n",
        "    equipment=\"Treadmill,Skipping ropes,Dumb bells,Yoga mat\"\n",
        "else:\n",
        "    print(\"Dead lifts,pull ups,dips,squat,lunge\")\n",
        "    equipment=\"bar bell,lifts,leg press machine,battle ropes,boxing machine\"\n",
        "\n",
        "print(equipment)"
      ],
      "metadata": {
        "colab": {
          "base_uri": "https://localhost:8080/"
        },
        "id": "gHB8JIpnBUSl",
        "outputId": "dd0681fc-f871-4413-a7f0-02450a840194"
      },
      "execution_count": null,
      "outputs": [
        {
          "output_type": "stream",
          "name": "stdout",
          "text": [
            "Enter fitness level(beginner/intermediate/advancedadvanced\n",
            "Dead lifts,pull ups,dips,squat,lunge\n",
            "bar bell,lifts,leg press machine,battle ropes,boxing machine\n"
          ]
        }
      ]
    },
    {
      "cell_type": "code",
      "source": [
        "#8.Suggest user to submit tasks based on deadlines and importance\n",
        "deadlines=float(input(\"Enter no of days left for submission:(1-5)\"))\n",
        "importance=int(input(\"Enter importance:\"))\n",
        "priority=deadlines*importance\n",
        "if deadlines<=2:\n",
        "    if(deadlines<2):\n",
        "        print(\"Task a with priority = \",priority)\n",
        "    else:\n",
        "        print(\"Task b with priority = \",priority)\n",
        "else:\n",
        "    if deadlines<=4:\n",
        "        print(\"Task c with priority = \",priority)\n",
        "    else:\n",
        "        print(\"Task d with priority = \",priority)\n"
      ],
      "metadata": {
        "colab": {
          "base_uri": "https://localhost:8080/"
        },
        "id": "E-LJeRmlB_kz",
        "outputId": "defd130c-9354-442a-bf8d-5cd3c7522c50"
      },
      "execution_count": null,
      "outputs": [
        {
          "output_type": "stream",
          "name": "stdout",
          "text": [
            "Enter no of days left for submission:(1-5)2.5\n",
            "Enter importance:2\n",
            "Task c with priority =  5.0\n"
          ]
        }
      ]
    },
    {
      "cell_type": "code",
      "source": [
        "#9.Suggest to save amount for his goal based on his savings and timeleft\n",
        "goal_amount=float(input(\"Enter amount:\"))\n",
        "timeline=int(input(\"Enter time left in months:\"))\n",
        "current_savings=float(input(\"Enter amount saved:\"))\n",
        "if current_savings  - goal_amount >=0:\n",
        "    print(\"You have enough amount\")\n",
        "else :\n",
        "    print(\"Amount to be earned \", goal_amount - current_savings  ,\"time left = \",timeline)"
      ],
      "metadata": {
        "colab": {
          "base_uri": "https://localhost:8080/"
        },
        "id": "3_-orA4vCZ-W",
        "outputId": "b7cc069b-c31d-4e00-f58c-b79d603e1716"
      },
      "execution_count": null,
      "outputs": [
        {
          "output_type": "stream",
          "name": "stdout",
          "text": [
            "Enter amount:20000\n",
            "Enter time left in months:5\n",
            "Enter amount saved:2500\n",
            "Amount to be earned  17500.0 time left =  5\n"
          ]
        }
      ]
    },
    {
      "cell_type": "code",
      "source": [
        "#10.Suggest user to take dosage of a particular medicines based on his routine.\n",
        "\n",
        "schedule=int(input(\"Enter time in 24hrs format:(6-22)\"))\n",
        "medication=str(input(\"Enter medication type daily or weekly\"))\n",
        "if schedule<=12:\n",
        "    if schedule<=6:\n",
        "        if medication==\"daily\":\n",
        "            print(\" Reminder for Medication name A\")\n",
        "            dosage=2\n",
        "        else:\n",
        "            print(\"Reminder for Medication name B\")\n",
        "            dosage=1\n",
        "    else:\n",
        "        if medication==\"daily\":\n",
        "            print(\" Reminder for Medication name C\")\n",
        "            dosage=0.5\n",
        "        else:\n",
        "            print(\" Reminder for Medication name D\")\n",
        "            dosage=1.5\n",
        "else:\n",
        "    if schedule<=17:\n",
        "        if medication==\"daily\":\n",
        "            print(\" Reminder for Medication name E\")\n",
        "            dosage=3\n",
        "        else:\n",
        "            print(\"Reminder for Medication name F\")\n",
        "            dosage=1\n",
        "    else:\n",
        "        if medication==\"daily\":\n",
        "            print(\" Reminder for Medication name G\")\n",
        "            dosage=2.5\n",
        "        else:\n",
        "            print(\" Reminder for Medication name H\")\n",
        "            dosage=0.5\n",
        "print(\"Take dosage = \",dosage)"
      ],
      "metadata": {
        "colab": {
          "base_uri": "https://localhost:8080/"
        },
        "id": "wISf-_zLC_8j",
        "outputId": "6d00d0a5-f9c2-4a54-c3c8-141ac1b2301a"
      },
      "execution_count": null,
      "outputs": [
        {
          "output_type": "stream",
          "name": "stdout",
          "text": [
            "Enter time in 24hrs format:(6-22)15\n",
            "Enter medication type daily or weeklydaily\n",
            " Reminder for Medication name E\n",
            "Take dosage =  3\n"
          ]
        }
      ]
    },
    {
      "cell_type": "code",
      "source": [
        "#11.Ask user to enter symptoms based on his symptoms tell the user what he might be suffering from.\n",
        "\n",
        "symptom1=str(input(\"Enter your first symptom1 (migrane,flu) : \"))\n",
        "symptom2=str(input(\"Enter your first symptom2 (dehydration,food posioning,body pains,itchy thorat) : \"))\n",
        "if symptom1==\"migrane\":\n",
        "    if symptom2==\"dehydration\":\n",
        "        print(\"It may be headache\")\n",
        "    elif symptom2==\"food posioning\":\n",
        "        print(\"It may be nausea\")\n",
        "    else:\n",
        "        print(\"It may be increase of eye sight\")\n",
        "elif symptom1==\"flu\":\n",
        "    if symptom2==\"bodypains\":\n",
        "        print(\"It may be fever\")\n",
        "    elif symptom2==\"itchy thorat\":\n",
        "        print(\"It may be cough\")\n",
        "    else:\n",
        "        print(\"It may be allergy\")\n",
        "else:\n",
        "    print(\"your symptoms doesn't match consult doctor\")"
      ],
      "metadata": {
        "colab": {
          "base_uri": "https://localhost:8080/"
        },
        "id": "JMXk9LMIDbss",
        "outputId": "043589fe-97ab-4944-a2b5-dc6dd47e5f09"
      },
      "execution_count": null,
      "outputs": [
        {
          "output_type": "stream",
          "name": "stdout",
          "text": [
            "Enter your first symptom1 (migrane,flu) : flu\n",
            "Enter your first symptom2 (dehydration,food posioning,body pains,itchy thorat) : bodypains\n",
            "It may be fever\n"
          ]
        }
      ]
    },
    {
      "cell_type": "code",
      "source": [
        "#12.write a program to calculate your grades based on assignments,quizzes,attendance.\n",
        "\n",
        "assignment=float(input(\"Enter marks you have scored for assignment : \"))\n",
        "exams=float(input(\"Enter marks you have scored for exams:\"))\n",
        "attendance=float(input(\"Enter marks you have scored for attendance : \"))\n",
        "weight=assignment*0.20+exams*0.75+attendance*0.05\n",
        "if weight<=60:\n",
        "    grade='C'\n",
        "elif weight>60 and weight<=80:\n",
        "    grade='B'\n",
        "else:\n",
        "    grade='A'\n",
        "print(\"Your total weight is = \",weight)\n",
        "print(\"You have received grade = \",grade)\n"
      ],
      "metadata": {
        "colab": {
          "base_uri": "https://localhost:8080/"
        },
        "id": "YErjSjoRESkt",
        "outputId": "7920a472-bb4d-4951-97be-b6ea24f57ba6"
      },
      "execution_count": null,
      "outputs": [
        {
          "output_type": "stream",
          "name": "stdout",
          "text": [
            "Enter marks you have scored for assignment : 86\n",
            "Enter marks you have scored for exams:80\n",
            "Enter marks you have scored for attendance : 91\n",
            "Your total weight is =  81.75\n",
            "You have received grade =  A\n"
          ]
        }
      ]
    },
    {
      "cell_type": "code",
      "source": [
        "#13.write a program to elect a person as college major based on his skills,interest\n",
        "\n",
        "skills=str(input(\"Enter your skills(coding,reasearch) :\"))\n",
        "interests=str(input(\"Enter your interests(programming,reading) : \"))\n",
        "trends=0\n",
        "if skills==\"coding\":\n",
        "    if interests==\"programming\":\n",
        "        trends=8\n",
        "    if interests==\"logic\":\n",
        "        trends=10\n",
        "if skills==\"research\":\n",
        "    if interests==\"reading\":\n",
        "        trends=9\n",
        "if trends<=5:\n",
        "    print(\"Trends = \",trends)\n",
        "    print(\"Not eligilble for college major\")\n",
        "else:\n",
        "    print(\"Trends = \",trends)\n",
        "    print(\"Eligible for college major\")"
      ],
      "metadata": {
        "colab": {
          "base_uri": "https://localhost:8080/"
        },
        "id": "31hZPnSMFKkm",
        "outputId": "aeea15b6-24d8-48c2-bfbf-8ff9a02831d2"
      },
      "execution_count": null,
      "outputs": [
        {
          "output_type": "stream",
          "name": "stdout",
          "text": [
            "Enter your skills(coding,reasearch) :coding\n",
            "Enter your interests(programming,reading) : reading\n",
            "Trends =  0\n",
            "Not eligilble for college major\n"
          ]
        }
      ]
    },
    {
      "cell_type": "code",
      "source": [
        "#14.a Carbonfoot print calculator\n",
        "\n",
        "transportation=str(input(\"Enter your transport like car,bike\"))\n",
        "activites=float(input(\"Enter your distance : \"))\n",
        "if transportation==\"car\":\n",
        "    if activites<=200:\n",
        "        energy_usage=100\n",
        "        consumption=activites*2.5+energy_usage*1.5\n",
        "    else:\n",
        "        energy_usage=300\n",
        "        consumption=activites*3+energy_usage*2.5\n",
        "if transportation==\"bike\":\n",
        "    if activites<=250:\n",
        "        energy_usage=150\n",
        "        consumption=activites*1.8+energy_usage*1.5\n",
        "    else:\n",
        "        energy_usage=300\n",
        "        consumption=activites*2+energy_usage*1.5\n",
        "else:\n",
        "    if activites<=280:\n",
        "        energy_usage=300\n",
        "        consumption=activites*2.8+energy_usage*2.5\n",
        "    else:\n",
        "        energy_usage=350\n",
        "        consumption=activites*2.2+energy_usage*2.5\n",
        "print(\"Carbon foot print = \",consumption)\n"
      ],
      "metadata": {
        "colab": {
          "base_uri": "https://localhost:8080/"
        },
        "id": "uawMGq4fFn56",
        "outputId": "3740f057-af9f-4141-e4b5-3b12e788f746"
      },
      "execution_count": null,
      "outputs": [
        {
          "output_type": "stream",
          "name": "stdout",
          "text": [
            "Enter your transport like car,bikecar\n",
            "Enter your distance : 200\n",
            "Carbon foot print =  1310.0\n"
          ]
        }
      ]
    },
    {
      "cell_type": "code",
      "source": [
        "#14.b.Recycling assistant:\n",
        "\n",
        "waste=str(input(\"Enter waste you need to throw : \"))\n",
        "if waste==\"paper\" or waste==\"glass\":\n",
        "    waste_type=\"recyclable waste\"\n",
        "    disposal_method=\"Recycle in designated bins.\"\n",
        "elif waste==\"batteries\" or waste==\"chemiclas\":\n",
        "    waste_type=\"hazardous waste\"\n",
        "    disposal_method=\"Dispose of at a hazardous waste collection facility.\"\n",
        "elif waste==\"food\" or waste==\"yard\":\n",
        "    waste_type=\"organic waste\"\n",
        "    disposal_method=\"Compost or dispose of in green waste bins.\"\n",
        "else:\n",
        "    waste_type=\"non recyclable waste\"\n",
        "    disposal_method=\"Unable to determine\"\n",
        "print(\"Waste type = \",waste_type)\n",
        "print(\"Disposal method = \",disposal_method)"
      ],
      "metadata": {
        "colab": {
          "base_uri": "https://localhost:8080/"
        },
        "id": "MOyQU-XfGKnd",
        "outputId": "34338cc0-8ff8-44d6-c85c-8ce0192bea85"
      },
      "execution_count": null,
      "outputs": [
        {
          "output_type": "stream",
          "name": "stdout",
          "text": [
            "Enter waste you need to throw : metal\n",
            "Waste type =  non recyclable waste\n",
            "Disposal method =  Unable to determine\n"
          ]
        }
      ]
    }
  ]
}
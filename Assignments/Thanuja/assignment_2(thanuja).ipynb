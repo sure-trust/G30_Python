{
  "cells": [
    {
      "cell_type": "code",
      "execution_count": null,
      "metadata": {
        "id": "3tE4lgq1pP01"
      },
      "outputs": [],
      "source": [
        "#LOOPS\n",
        "\n",
        "#1.Triangle Pattern\n",
        "\n",
        "n=int(input(\"Enter size of pattern\"))\n",
        "\n",
        "print(\"The pattern for give size \",n,\"is : \\n\")\n",
        "\n",
        "for i in range(1,n+1):\n",
        "\n",
        "    for j in range(1,i+1):\n",
        "\n",
        "        print(\"*\",end=\" \")\n",
        "\n",
        "    print()"
      ]
    },
    {
      "cell_type": "code",
      "execution_count": null,
      "metadata": {
        "colab": {
          "base_uri": "https://localhost:8080/"
        },
        "id": "UJHZ4KIUp8vn",
        "outputId": "b1e85798-c495-499d-8819-38a25d51c926"
      },
      "outputs": [
        {
          "name": "stdout",
          "output_type": "stream",
          "text": [
            "01 02 03 04 05 06 07 08 09 10 \n",
            "02 04 06 08 10 12 14 16 18 20 \n",
            "03 06 09 12 15 18 21 24 27 30 \n",
            "04 08 12 16 20 24 28 32 36 40 \n",
            "05 10 15 20 25 30 35 40 45 50 \n",
            "06 12 18 24 30 36 42 48 54 60 \n",
            "07 14 21 28 35 42 49 56 63 70 \n",
            "08 16 24 32 40 48 56 64 72 80 \n",
            "09 18 27 36 45 54 63 72 81 90 \n",
            "10 20 30 40 50 60 70 80 90 100 \n"
          ]
        }
      ],
      "source": [
        "#Multiplication tables\n",
        "for i in range(1,10+1):\n",
        "\n",
        "    for j in range(1,10+1):\n",
        "        k=0\n",
        "        c=i*j\n",
        "        k=len(str(c))\n",
        "        if(k<=1):\n",
        "           print(\"{0}{1}\".format(\"0\",c),end=\" \")\n",
        "        else:\n",
        "          print(c,end=\" \")\n",
        "\n",
        "\n",
        "    print()"
      ]
    },
    {
      "cell_type": "code",
      "execution_count": null,
      "metadata": {
        "id": "bTP-iNSjqMSL"
      },
      "outputs": [],
      "source": [
        "#Prime number within  a given range\n",
        "n=int(input(\"Enter a number for range to fing prime numbers : \"))\n",
        "for i in range(1,n+1):\n",
        "    c=0\n",
        "    for j in range(1,i+1):\n",
        "        if(i%j==0):\n",
        "            c=c+1\n",
        "    if(c==2):\n",
        "        print(i,end=\" \")\n",
        "\n"
      ]
    },
    {
      "cell_type": "code",
      "execution_count": null,
      "metadata": {
        "id": "xdyX6FZcrARy"
      },
      "outputs": [],
      "source": [
        "#Fibonocii Series\n",
        "n=int(input(\"Enter range for fibonocii series : \"))\n",
        "a=0\n",
        "b=1\n",
        "print(a,b,end=\" \")\n",
        "for i in range(1,n-2+1):\n",
        "    temp=a+b\n",
        "    a=b\n",
        "    b=temp\n",
        "    print(temp,end=\" \")"
      ]
    },
    {
      "cell_type": "code",
      "execution_count": null,
      "metadata": {
        "id": "EzWXoNHHwaHV"
      },
      "outputs": [],
      "source": [
        "#pascal triangle\n",
        "n=int(input(\"Enter size of pascal triangle : \"))\n",
        "for i in range(1,n+1):\n",
        "    for s in range(1,n-i+1):\n",
        "\n",
        "        print(\" \",end=\" \")\n",
        "\n",
        "    c=1\n",
        "\n",
        "    for j in range(1,i+1):\n",
        "\n",
        "        print(c,end=\" \")\n",
        "\n",
        "        c=c*(i-j)//j\n",
        "\n",
        "    print()\n"
      ]
    },
    {
      "cell_type": "code",
      "execution_count": null,
      "metadata": {
        "id": "9MH-CM5m21nV"
      },
      "outputs": [],
      "source": [
        "##if else loops\n",
        "\n",
        "#1.Even or Odd\n",
        "n=int(input(\"Enter a number : \"))\n",
        "if(n%2==0):\n",
        "\n",
        "    print(n,\"is even number\")\n",
        "\n",
        "else:\n",
        "    print(n,\"is odd number\")\n"
      ]
    },
    {
      "cell_type": "code",
      "execution_count": null,
      "metadata": {
        "id": "Z-IG5dOMyPw7"
      },
      "outputs": [],
      "source": [
        "#2.Eligibility to vote\n",
        "age=int(input(\"Enter age : \"))\n",
        "if(age>=18):\n",
        "    print(\"Eligible for vote\")\n",
        "else:\n",
        "    print(\"Not Eligible for vote under 18\")\n"
      ]
    },
    {
      "cell_type": "code",
      "execution_count": null,
      "metadata": {
        "id": "GLz0d75xyhVS"
      },
      "outputs": [],
      "source": [
        "#3.Leap Year\n",
        "year=int(input(\"Enter year : \"))\n",
        "if((year%4==0) and ( year%400==0  or  year%100!=0) ):\n",
        "  print(\" leap year\")\n",
        "else:\n",
        "\tprint(\" not Leap year\")\n"
      ]
    },
    {
      "cell_type": "code",
      "execution_count": null,
      "metadata": {
        "id": "EjfmzYdYy7Lb"
      },
      "outputs": [],
      "source": [
        "#4.Discount\n",
        "\n",
        "price=float(input(\"Enter price of product : \"))\n",
        "discount=float(input(\"Enter discount in percent :\"))\n",
        "if(price>=200):\n",
        "    amount_paid=price-((price*discount)/100)\n",
        "else :\n",
        "    amount_paid=price\n",
        "print(\"Total amount to be paid = \",amount_paid)"
      ]
    },
    {
      "cell_type": "code",
      "execution_count": null,
      "metadata": {
        "id": "AP8X8q9PzQRP"
      },
      "outputs": [],
      "source": [
        "#5.Upper case or lowercase\n",
        "ch=(input(\"Enter a character : \"))\n",
        "if(ch.isupper()):\n",
        "    print(\"Entered character is in uppercase\")\n",
        "elif(ch.islower()):\n",
        "    print(\"Entered character is in lowerrcase\")\n",
        "else:\n",
        "       print(\"Entered character is not in uppercase or lowercase\")\n"
      ]
    },
    {
      "cell_type": "code",
      "execution_count": null,
      "metadata": {
        "id": "wHC4Nv-5zmOD"
      },
      "outputs": [],
      "source": [
        "#6.Positive or negative or zero\n",
        "\n",
        "num=int(input(\"Enter a number : \"))\n",
        "if(num>0):\n",
        "    print(\"Positive number\")\n",
        "elif(num<0):\n",
        "    print(\"Negative number\")\n",
        "else :\n",
        "    print(\"Zero\")\n",
        "\n",
        "\n",
        "\n"
      ]
    }
  ],
  "metadata": {
    "colab": {
      "provenance": []
    },
    "kernelspec": {
      "display_name": "Python 3",
      "name": "python3"
    },
    "language_info": {
      "codemirror_mode": {
        "name": "ipython",
        "version": 3
      },
      "file_extension": ".py",
      "mimetype": "text/x-python",
      "name": "python",
      "nbconvert_exporter": "python",
      "pygments_lexer": "ipython3",
      "version": "3.11.1"
    }
  },
  "nbformat": 4,
  "nbformat_minor": 0
}
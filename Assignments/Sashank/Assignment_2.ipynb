{
  "cells": [
    {
      "cell_type": "code",
      "source": [
        "#1. Write a program that takes an integer as input and determines if it is even or odd using an if-else statement.\n",
        "number = int(input(\"Enter an integer: \"))\n",
        "if number %2==0:\n",
        "  print(\"number is even\")\n",
        "else:\n",
        "   print(\"number is odd\")"
      ],
      "metadata": {
        "id": "TwzwbJ2f2foy",
        "outputId": "f3920f2a-7800-4819-9601-5314ea68e81e",
        "colab": {
          "base_uri": "https://localhost:8080/"
        }
      },
      "execution_count": null,
      "outputs": [
        {
          "output_type": "stream",
          "name": "stdout",
          "text": [
            "Enter an integer: 9\n",
            "number is odd\n"
          ]
        }
      ]
    },
    {
      "cell_type": "code",
      "source": [
        "#2. Write a program that takes a person's age as input and determines if they are eligible to vote using an if-else statement.\n",
        "Age= int(input(\"Enter your Age: \"))\n",
        "if Age >=18:\n",
        "  print(\"You are eligible to vote\")\n",
        "else:\n",
        "  print(\"You are not eligible to vote\")"
      ],
      "metadata": {
        "id": "2i9U_aWv4wyw",
        "outputId": "07403589-9ee3-4e52-f64a-cb384fd87c84",
        "colab": {
          "base_uri": "https://localhost:8080/"
        }
      },
      "execution_count": null,
      "outputs": [
        {
          "output_type": "stream",
          "name": "stdout",
          "text": [
            "Enter your Age: 17\n",
            "You are not eligible to vote\n"
          ]
        }
      ]
    },
    {
      "cell_type": "code",
      "source": [
        "#3. Write a program that takes a year as input and determines if it is a leap year using an if-else statement.\n",
        "\n",
        "Year= int(input(\"Enter a year \"))\n",
        "if(Year%4==0 and Year%100 !=0) or (Year % 400 == 0):\n",
        "  print(Year, \"is a leap year\")\n",
        "else:\n",
        "  print(Year, \"is not a leap year\")"
      ],
      "metadata": {
        "id": "KqO_5piE50rT",
        "outputId": "fb0507c4-4a14-4edb-a900-519c773afb88",
        "colab": {
          "base_uri": "https://localhost:8080/"
        }
      },
      "execution_count": null,
      "outputs": [
        {
          "output_type": "stream",
          "name": "stdout",
          "text": [
            "Enter a year 2024\n",
            "2024 is a leap year\n"
          ]
        }
      ]
    },
    {
      "cell_type": "code",
      "source": [
        "#4. Write a program that takes the price of a product and the discount percentage as input and calculates the discounted price using an if-else statement.\n",
        "price= int(input(\"Enter the price: \"))\n",
        "discount_percentage= int(input(\"Enter the discount percentage: \"))\n",
        "if discount_percentage >= 0 and discount_percentage <= 100:\n",
        "      discount_amount = (discount_percentage / 100) * price\n",
        "      discounted_price = price - discount_amount\n",
        "      print(\"The discounter price is:\", discounted_price)\n",
        "else:\n",
        "      print(\"Invalid discount percentage \")"
      ],
      "metadata": {
        "id": "NWYCDDAT_iot",
        "outputId": "c735c11d-3d16-4b35-a819-56d7b5ef5dd1",
        "colab": {
          "base_uri": "https://localhost:8080/"
        }
      },
      "execution_count": 10,
      "outputs": [
        {
          "output_type": "stream",
          "name": "stdout",
          "text": [
            "Enter the price: 45\n",
            "Enter the discount percentage: 21\n",
            "The discounter price is: 35.55\n"
          ]
        }
      ]
    },
    {
      "cell_type": "code",
      "source": [
        "#5. Write a program that takes a character as input and determines if it is uppercase or lowercase using an if-else statement.\n",
        "\n",
        "character= input(\"Enter a character: \")\n",
        "if character.isupper():\n",
        "  print(\"Character is uppercase\")\n",
        "elif character.islower():\n",
        "  print(\"Character is lowercase\")\n",
        "else:\n",
        "  print(\"Enter a valid character\")\n"
      ],
      "metadata": {
        "id": "Ideloy_RCyjr",
        "outputId": "6a7c2126-296d-4ad8-9a62-f78de6450a13",
        "colab": {
          "base_uri": "https://localhost:8080/"
        }
      },
      "execution_count": null,
      "outputs": [
        {
          "output_type": "stream",
          "name": "stdout",
          "text": [
            "Enter a character: sashank\n",
            "Character is lowercase\n"
          ]
        }
      ]
    },
    {
      "cell_type": "code",
      "source": [
        "#6. Write a program that takes a number as input and determines if it is positive, negative\n",
        "number= int(input(\"Enter a number: \"))\n",
        "if number>0:\n",
        "  print(\"The number is positive\")\n",
        "elif number<0:\n",
        "  print(\"The number is negative\")\n",
        "else:\n",
        "  print(\"The number is zero\")"
      ],
      "metadata": {
        "id": "7_Ec5itTFbUp",
        "outputId": "ee63af2a-af35-4935-8e86-da2eaed6de30",
        "colab": {
          "base_uri": "https://localhost:8080/"
        }
      },
      "execution_count": null,
      "outputs": [
        {
          "output_type": "stream",
          "name": "stdout",
          "text": [
            "Enter a number: -1\n",
            "The number is negative\n"
          ]
        }
      ]
    },
    {
      "cell_type": "code",
      "source": [
        "#2. Write a Python program that prints the multiplication table (from 1 to 10) using nested loops.\n",
        "for i in range(1,1):\n",
        "  for j in range(1,10+1):\n",
        "    print(i*j,end=\" \")\n",
        "  print()\n",
        "\n"
      ],
      "metadata": {
        "colab": {
          "base_uri": "https://localhost:8080/"
        },
        "id": "TVrTs1CvXCou",
        "outputId": "53113767-506f-4395-e083-732ae8e8c96e"
      },
      "execution_count": 21,
      "outputs": [
        {
          "output_type": "stream",
          "name": "stdout",
          "text": [
            "1 2 3 4 5 6 7 8 9 10 \n",
            "2 4 6 8 10 12 14 16 18 20 \n",
            "3 6 9 12 15 18 21 24 27 30 \n",
            "4 8 12 16 20 24 28 32 36 40 \n",
            "5 10 15 20 25 30 35 40 45 50 \n",
            "6 12 18 24 30 36 42 48 54 60 \n",
            "7 14 21 28 35 42 49 56 63 70 \n",
            "8 16 24 32 40 48 56 64 72 80 \n",
            "9 18 27 36 45 54 63 72 81 90 \n",
            "10 20 30 40 50 60 70 80 90 100 \n"
          ]
        }
      ]
    },
    {
      "cell_type": "code",
      "source": [
        "#3. Write a Python program using nested loops to find all prime numbers within a given range.\n",
        "starting_range= int(input(\"Enter starting range: \"))\n",
        "ending_range= int(input(\"Enter ending range: \"))\n",
        "for num in range(start_range, end_range + 1):\n",
        "  if num>1:\n",
        "    is_prime = True\n",
        "    for i in range(2, num):\n",
        "      if (num % i) == 0:\n",
        "        is_prime = False\n",
        "    if is_prime:\n",
        "        print(num)\n"
      ],
      "metadata": {
        "colab": {
          "base_uri": "https://localhost:8080/"
        },
        "id": "9M9OpzGXhh5D",
        "outputId": "e13b9398-79a1-4dc7-90ef-3478c70dd9fe"
      },
      "execution_count": null,
      "outputs": [
        {
          "output_type": "stream",
          "name": "stdout",
          "text": [
            "Enter starting range: 5\n",
            "Enter ending range: 25\n",
            "5\n",
            "7\n",
            "11\n",
            "13\n",
            "17\n",
            "19\n",
            "23\n"
          ]
        }
      ]
    },
    {
      "cell_type": "code",
      "source": [
        "#5. Write a Python program to print Pascal's triangle up to `n` rows using nested loops.\n",
        "from math import factorial\n",
        "n = int(input(\"Enter Pascal triangle how many rows: \"))\n",
        "for i in range(n+1):\n",
        "  for j in range(n-i-1):\n",
        "    print(end=\" \")\n",
        "  for k in range(i+1):\n",
        "    element = factorial(i)/(factorial(k)*factorial(i-k))\n",
        "    print(int(element), end = \" \")\n",
        "  print()\n"
      ],
      "metadata": {
        "colab": {
          "base_uri": "https://localhost:8080/"
        },
        "id": "cif8YVz9rQX-",
        "outputId": "7a4e22e8-1f53-4bd7-ac86-375ee1083963"
      },
      "execution_count": 11,
      "outputs": [
        {
          "output_type": "stream",
          "name": "stdout",
          "text": [
            "Enter Pascal triangle how many rows: 5\n",
            "    1 \n",
            "   1 1 \n",
            "  1 2 1 \n",
            " 1 3 3 1 \n",
            "1 4 6 4 1 \n",
            "1 5 10 10 5 1 \n"
          ]
        }
      ]
    },
    {
      "cell_type": "code",
      "source": [
        "#4. Write a Python program to print the Fibonacci sequence's first `n` numbers using a loop within a loop.\n",
        "n = int(input(\"Enter the number of Fibonacci numbers to print: \"))\n",
        "\n",
        "first = 0\n",
        "second = 1\n",
        "\n",
        "print(\"Fibonacci sequence:\")\n",
        "for _ in range(n):\n",
        "    print(first, end=\" \")\n",
        "\n",
        "    next_num = first + second\n",
        "\n",
        "    first = second\n",
        "    second = next_num\n"
      ],
      "metadata": {
        "id": "RjqUEvO7rsg-",
        "colab": {
          "base_uri": "https://localhost:8080/"
        },
        "outputId": "ff86b8b4-2492-4d90-948c-a777e84053f6"
      },
      "execution_count": 3,
      "outputs": [
        {
          "output_type": "stream",
          "name": "stdout",
          "text": [
            "Enter the number of Fibonacci numbers to print: 5\n",
            "Fibonacci sequence:\n",
            "0 1 1 2 3 "
          ]
        }
      ]
    },
    {
      "cell_type": "code",
      "source": [
        "#1. **Print a pattern**: Write a Python program to print the following pattern using nested loops:\n",
        "n= int(input(\"Enter number of rows: \"))\n",
        "for i in range(1, n + 1):\n",
        "  for j in range(i):\n",
        "     print(\"*\", end=\"\")\n",
        "  print()"
      ],
      "metadata": {
        "colab": {
          "base_uri": "https://localhost:8080/"
        },
        "id": "ZW5ZAvXBjkf3",
        "outputId": "0645e3b1-d2e0-449d-9796-943f65daa087"
      },
      "execution_count": 7,
      "outputs": [
        {
          "output_type": "stream",
          "name": "stdout",
          "text": [
            "Enter number of rows: 5\n",
            "*\n",
            "**\n",
            "***\n",
            "****\n",
            "*****\n"
          ]
        }
      ]
    },
    {
      "cell_type": "code",
      "source": [
        "#Modified code\n",
        "for i in range(1, 11):\n",
        "    for j in range(1, 10 + 1):\n",
        "        result = i * j\n",
        "        if result < 10:\n",
        "            print(\"0\" + str(result), end=\" \")\n",
        "        else:\n",
        "            print(result, end=\" \")\n",
        "    print()\n"
      ],
      "metadata": {
        "colab": {
          "base_uri": "https://localhost:8080/"
        },
        "id": "QINR_PZqvrLb",
        "outputId": "9abe33fb-ff45-4505-e9d2-46464239b5fa"
      },
      "execution_count": 38,
      "outputs": [
        {
          "output_type": "stream",
          "name": "stdout",
          "text": [
            "01 02 03 04 05 06 07 08 09 10 \n",
            "02 04 06 08 10 12 14 16 18 20 \n",
            "03 06 09 12 15 18 21 24 27 30 \n",
            "04 08 12 16 20 24 28 32 36 40 \n",
            "05 10 15 20 25 30 35 40 45 50 \n",
            "06 12 18 24 30 36 42 48 54 60 \n",
            "07 14 21 28 35 42 49 56 63 70 \n",
            "08 16 24 32 40 48 56 64 72 80 \n",
            "09 18 27 36 45 54 63 72 81 90 \n",
            "10 20 30 40 50 60 70 80 90 100 \n"
          ]
        }
      ]
    },
    {
      "cell_type": "code",
      "source": [],
      "metadata": {
        "id": "xl2gY2415UYi"
      },
      "execution_count": null,
      "outputs": []
    }
  ],
  "metadata": {
    "colab": {
      "provenance": []
    },
    "kernelspec": {
      "display_name": "Python 3",
      "name": "python3"
    }
  },
  "nbformat": 4,
  "nbformat_minor": 0
}
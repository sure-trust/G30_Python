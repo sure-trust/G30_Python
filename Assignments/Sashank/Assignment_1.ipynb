{
  "nbformat": 4,
  "nbformat_minor": 0,
  "metadata": {
    "colab": {
      "provenance": []
    },
    "kernelspec": {
      "name": "python3",
      "display_name": "Python 3"
    },
    "language_info": {
      "name": "python"
    }
  },
  "cells": [
    {
      "cell_type": "code",
      "execution_count": null,
      "metadata": {
        "id": "PI69gLHDCNvr"
      },
      "outputs": [],
      "source": [
        "#1. You're at the grocery store. Write a program to calculate the total bill based on item prices and quantities, applying discounts for bulk purchases. (Variables: prices, quantities; Operators: +, -, *, /; If-else: check bulk quantities for discounts)\n",
        "\n",
        "prices= int(input(\"enter prices: \"))\n",
        "Quantities = int(input(\"enter quantities: \"))\n",
        "\n",
        "if Quantities >5:\n",
        "\ttotal_bill = prices*Quantities*0.9\n",
        "else:\n",
        "    total_bill = prices*Quantities\n",
        "\n",
        "print(\"total bill:\" , total_bill)\n",
        "\n"
      ]
    },
    {
      "cell_type": "code",
      "source": [
        "#2. You have a budget for clothes shopping. Design a program to help you stay within your budget, considering item prices and offering suggestions if you go over. (Variables: budget, item prices; Operators: -, <, >; If-else: check budget vs. total cost)\n",
        "\n",
        "BUDGET=int(input(\"enter your budget\"))\n",
        "ITEMCOST=int(input(\"cost of item\"))\n",
        "if BUDGET>ITEMCOST:\n",
        "    money_left=BUDGET-ITEMCOST\n",
        "    print(\"MONEY LEFT :\",money_left)\n",
        "else:\n",
        "    print(\"OUT OF BUDGET\")\n",
        ""
      ],
      "metadata": {
        "id": "zo9vqyEICYUJ"
      },
      "execution_count": null,
      "outputs": []
    },
    {
      "cell_type": "code",
      "source": [
        "#3. Planning a road trip? Write a program to estimate the travel time and fuel cost based on distance, vehicle mileage, and gas prices. (Variables: distance, mileage, gas price; Operators: *, /; If-else: consider different fuel efficiency for highway vs. city driving)\n",
        "gas_price = int(input(\"Enter gas price per litre: \"))\n",
        "drive = input(\"Enter city or highway: \")\n",
        "city_milage = 18\n",
        "highway_milage = 25\n",
        "Distance_to_travel = 231\n",
        "speed = 60\n",
        "\n",
        "if drive == \"highway\":\n",
        "    fuel_required = Distance_to_travel // highway_milage\n",
        "    fuel_cost = fuel_required * gas_price\n",
        "else:\n",
        "    fuel_required = Distance_to_travel // city_milage\n",
        "    fuel_cost = fuel_required * gas_price\n",
        "\n",
        "print(\"FUEL COST:\", fuel_cost)\n",
        "travel_time = 2 * (Distance_to_travel / speed)\n",
        "print(\"TOTAL TRAVEL TIME:\", travel_time)\n"
      ],
      "metadata": {
        "id": "7eOT7QPCCmMr"
      },
      "execution_count": null,
      "outputs": []
    },
    {
      "cell_type": "code",
      "source": [
        "#4. Packing for a camping trip? Create a program that suggests items based on weather conditions and campsite amenities. (Variables: weather, amenities; Operators: ==, !=; If-else: suggest different gear based on conditions)\n",
        "def suggest_camping_gear(weather, amenities):\n",
        "    if weather == \"sunny\":\n",
        "        gear = \"Sunscreen, hat, sunglasses\"\n",
        "    elif weather == \"rainy\":\n",
        "       gear = \"Raincoat , waterproof tents, umbrella\"\n",
        "    elif weather == \"cold\":\n",
        "       gear = \"socks, socks, gloves\"\n",
        "\n",
        "    if amenities == \"campfire\":\n",
        "      gear +=  \"matchbox, wood\"\n",
        "    elif amenities == \"electricity\":\n",
        "      gear += \" charger, lantern\"\n",
        "    elif amenities == \"picnic table\":\n",
        "       gear += \" Picnic blanket, portable stove\"\n",
        "\n",
        "\n",
        "    return gear\n",
        "\n",
        "weather_condition = input(\"Enter weather conditions (sunny, rainy, cold): \")\n",
        "campsite_amenities = input(\"Enter campsite amenities (firepit, electricity, picnic table): \")\n",
        "\n",
        "suggested_gear = suggest_camping_gear(weather_condition, campsite_amenities)\n",
        "print(\"Suggested camping gear: \" + suggested_gear)\n"
      ],
      "metadata": {
        "colab": {
          "base_uri": "https://localhost:8080/"
        },
        "id": "N0xPwd1vDEJd",
        "outputId": "518db7d8-bf61-4936-8864-e32c22871b2b"
      },
      "execution_count": 3,
      "outputs": [
        {
          "output_type": "stream",
          "name": "stdout",
          "text": [
            "Enter weather conditions (sunny, rainy, cold): sunny\n",
            "Enter campsite amenities (firepit, electricity, picnic table): picnic\n",
            "Suggested camping gear: Sunscreen, hat, sunglasses\n"
          ]
        }
      ]
    },
    {
      "cell_type": "code",
      "source": [
        "#5. Lost in the city? Design a program that recommends nearby restaurants based on your budget and dietary preferences. (Variables: budget, preferences; Operators: ==, !=; If-else: filter restaurants based on criteria) Everyday Decisions (5):\n",
        "\n",
        "budget = int(input(\"Enter your budget: \"))\n",
        "preferences = input(\"Enter your dietary preferences: \")\n",
        "\n",
        "restaurants = [\n",
        "    {\"name\": \"Restaurant A\", \"budget\": 20, \"preferences\": \"Vegetarian\"},\n",
        "    {\"name\": \"Restaurant B\", \"budget\": 30, \"preferences\": \"Vegan\"},\n",
        "    {\"name\": \"Restaurant C\", \"budget\": 15, \"preferences\": \"Gluten-free\"},\n",
        "    {\"name\": \"Restaurant D\", \"budget\": 25, \"preferences\": \"Vegetarian\"},\n",
        "    {\"name\": \"Restaurant E\", \"budget\": 40, \"preferences\": \"Vegan\"},\n",
        "]\n",
        "\n",
        "filtered_restaurants = []\n",
        "\n",
        "for restaurant in restaurants:\n",
        "    if restaurant[\"budget\"] <= budget and restaurant[\"preferences\"] == preferences:\n",
        "       filtered_restaurants.append(restaurant)\n",
        "\n",
        "if len(filtered_restaurants) > 0:\n",
        "    print(\"Here are some nearby restaurants that match your criteria:\")\n",
        "    for restaurant in filtered_restaurants:\n",
        "       print(restaurant[\"name\"])\n",
        "else:\n",
        "\n",
        "    print(\"Sorry, no restaurants match your criteria.\")\n"
      ],
      "metadata": {
        "colab": {
          "base_uri": "https://localhost:8080/"
        },
        "id": "o_t2Mj5hDwcU",
        "outputId": "bccfecc4-53b6-4bf5-9cba-4f21ea1e46cb"
      },
      "execution_count": 7,
      "outputs": [
        {
          "output_type": "stream",
          "name": "stdout",
          "text": [
            "Enter your budget: 20\n",
            "Enter your dietary preferences: Vegetarian\n",
            "Here are some nearby restaurants that match your criteria:\n",
            "Restaurant A\n"
          ]
        }
      ]
    },
    {
      "cell_type": "code",
      "source": [
        "#7. Planning a workout routine? Design a program that suggests exercises based on fitness level and available equipment. (Variables: fitness level, equipment; Operators: ==, !=; If-else: recommend exercises based on user's needs)\n",
        "fitness_level = input(\"Enter your fitness level (beginner, intermediate, advanced): \")\n",
        "equipment = input(\"Enter the available equipment (dumbbells, resistance bands, none): \")\n",
        "\n",
        "exercise_suggestions = {\n",
        "      \"beginner\": {\n",
        "        \"dumbbells\": [\"Dumbbell Squats\", \"Dumbbell Rows\", \"Dumbbell Lunges\"],\n",
        "         \"resistance bands\": [\"Band Pull-Aparts\", \"Banded Glute Bridges\", \"Band Pull-Throughs\"],\n",
        "        \"none\": [\"Bodyweight Squats\", \"Push-Ups\", \"Jumping Jacks\"]\n",
        "     },\n",
        "      \"intermediate\": {\n",
        "       \"dumbbells\": [\"Dumbbell Bench Press\", \"Dumbbell Deadlifts\", \"Dumbbell Shoulder Press\"],\n",
        "       \"resistance bands\": [\"Band Deadlifts\", \"Band Bicep Curls\", \"Band Tricep Extensions\"],\n",
        "       \"none\": [\"Burpees\", \"Mountain Climbers\", \"Plank\"]\n",
        "     },\n",
        "    \"advanced\": {\n",
        "      \"dumbbells\": [\"Dumbbell Thrusters\", \"Renegade Rows\", \"Dumbbell Snatches\"],\n",
        "       \"resistance bands\": [\"Band Assisted Pull-Ups\", \"Band Face Pulls\", \"Band Lateral Raises\"],\n",
        "         \"none\": [\"Jump Squats\", \"Plyometric Push-Ups\", \"Sprints\"]\n",
        "    }\n",
        "}\n",
        "\n",
        "if fitness_level in exercise_suggestions:\n",
        "    if equipment in exercise_suggestions[fitness_level]:\n",
        "       print(\"Here are some suggested exercises for you:\")\n",
        "       for exercise in exercise_suggestions[fitness_level][equipment]:\n",
        "            print(exercise)\n",
        "\n",
        "\n"
      ],
      "metadata": {
        "colab": {
          "base_uri": "https://localhost:8080/"
        },
        "id": "mIX-Cg5vEHpB",
        "outputId": "a7ccd687-747b-4565-d5e9-6dafbd5b1797"
      },
      "execution_count": 10,
      "outputs": [
        {
          "output_type": "stream",
          "name": "stdout",
          "text": [
            "Enter your fitness level (beginner, intermediate, advanced): advanced\n",
            "Enter the available equipment (dumbbells, resistance bands, none): dumbbells\n",
            "Here are some suggested exercises for you:\n",
            "Dumbbell Thrusters\n",
            "Renegade Rows\n",
            "Dumbbell Snatches\n"
          ]
        }
      ]
    },
    {
      "cell_type": "code",
      "source": [
        "#8. Managing your schedule? Create a program that helps you prioritize tasks based on deadlines and importance. (Variables: deadlines, importance; Operators: <, >; If-else: order tasks based on priority)\n",
        "def prioritize_tasks(tasks):\n",
        "    # Sort tasks based on deadlines and importance\n",
        "    sorted_tasks = sorted(tasks, key=lambda x: (x['deadline'], x['importance']), reverse=True)\n",
        "\n",
        "    # Display the prioritized tasks\n",
        "    print(\"Prioritized tasks:\")\n",
        "    for index, task in enumerate(sorted_tasks, start=1):\n",
        "        print(f\"{index}. Task: {task['name']}, Deadline: {task['deadline']}, Importance: {task['importance']}\")\n",
        "\n",
        "# Example usage:\n",
        "tasks = [\n",
        "    {'name': 'Finish project', 'deadline': '2024-02-15', 'importance': 5},\n",
        "    {'name': 'Prepare presentation', 'deadline': '2024-02-10', 'importance': 4},\n",
        "    {'name': 'Reply to emails', 'deadline': '2024-02-20', 'importance': 3},\n",
        "    {'name': 'Exercise', 'deadline': '2024-02-12', 'importance': 2},\n",
        "    {'name': 'Read a book', 'deadline': '2024-02-18', 'importance': 1}\n",
        "]\n",
        "\n",
        "prioritize_tasks(tasks)\n"
      ],
      "metadata": {
        "id": "l6_tETYbHlEM"
      },
      "execution_count": null,
      "outputs": []
    },
    {
      "cell_type": "code",
      "source": [
        "#9. Saving for a goal? Build a program that tracks your progress and suggests adjustments to your saving plan based on your desired timeline. (Variables: goal amount, timeline, current savings; Operators: +, -, *, /; If-else: suggest changes based on progress).\n",
        "goal_amount = float(input(\"Enter your savings goal amount: \"))\n",
        "timeline = int(input(\"Enter your desired timeline to reach the goal (in months): \"))\n",
        "current_savings = float(input(\"Enter your current savings: \"))\n",
        "\n",
        "target_monthly_savings = (goal_amount - current_savings) / timeline\n",
        "\n",
        "remaining_months = (goal_amount - current_savings) / target_monthly_savings\n",
        "\n",
        "if current_savings >= goal_amount:\n",
        "    print(\"Congratulations! You've already reached your savings goal.\")\n",
        "elif remaining_months <= 0:\n",
        "    print(\"Oops! At your current savings rate, it's impossible to reach your goal within the desired timeline.\")\n",
        "else:\n",
        "    print(\"You're on track to reach your goal in {int(remaining_months)} months.\")\n",
        "    if target_monthly_savings > current_savings:\n",
        "       print(\"Consider increasing your monthly savings to reach your goal on time.\")\n",
        "    else:\n",
        "      print(\"Your current savings plan are sufficient to reach your goal on time.\")\n"
      ],
      "metadata": {
        "id": "3N2ufRFBIVVR"
      },
      "execution_count": null,
      "outputs": []
    },
    {
      "cell_type": "code",
      "source": [
        "#10. Medication Reminder: Design a program that reminds patients to take their medication based on dosage and schedule, considering potential interactions if taking multiple medications. (Variables: medication names, dosage, schedule; Operators: +, -, *, /; If-else: check for interactions based on medication types)\n",
        "num_medications = int(input(\"Enter the number of medications: \"))\n",
        "\n",
        "for i in range(num_medications):\n",
        "    medication_name = input(f\"Enter the name of Medication {i + 1}: \")\n",
        "    dosage = float(input(f\"Enter the dosage for {medication_name} (in mg): \"))\n",
        "    schedule = input(f\"Enter the schedule for {medication_name} (e.g., 'morning', 'afternoon', 'evening'): \")\n",
        "\n",
        "    print(f\"\\nReminder for {medication_name}:\")\n",
        "\n",
        "    if 'aspirin' in medication_name.lower():\n",
        "        print(f\"Warning: {medication_name} may interact with other blood-thinning medications.\")\n",
        "    elif 'ibuprofen' in medication_name.lower():\n",
        "        print(f\"Warning: {medication_name} may interact with certain heart medications.\")\n",
        "    elif 'antibiotic' in medication_name.lower():\n",
        "        print(f\"Caution: {medication_name} may interact with some other medications. Check with your doctor.\")\n",
        "    else:\n",
        "        print(f\"Take {dosage} mg as per the prescribed schedule.\")"
      ],
      "metadata": {
        "id": "tlbVvHDwIzrE"
      },
      "execution_count": null,
      "outputs": []
    },
    {
      "cell_type": "code",
      "source": [
        "#12. Grade Calculator: Build a program that calculates student grades based on assignments, exams, and attendance, considering different weighting schemes for different factors. (Variables: grades, weights; Operators: +, -, *, /; If-else: apply different weights based on course policies)\n",
        "weights = {\n",
        "     \"assignments\": 0.4,\n",
        "     \"exams\": 0.5,\n",
        "     \"attendance\": 0.1\n",
        "}\n",
        "\n",
        "def calculate_overall_grade(grades, weights):\n",
        "    overall_grade = 0\n",
        "    for component, weight in weights.items():\n",
        "       overall_grade += grades[component] * weight\n",
        "    return overall_grade\n",
        "\n",
        "grades = {\n",
        "    \"assignments\": float(input(\"Enter the grade for assignments (out of 100): \")) / 100,\n",
        "    \"exams\": float(input(\"Enter the grade for exams (out of 100): \")) / 100,\n",
        "    \"attendance\": float(input(\"Enter the grade for attendance (out of 100): \")) / 100\n",
        "}\n",
        "\n",
        "# Calculate the overall grade\n",
        "overall_grade = calculate_overall_grade(grades, weights)\n",
        "\n",
        "# Display the overall grade\n",
        "print(f\"Overall grade: {overall_grade * 100:.2f}%\")\n",
        "\n",
        "\n"
      ],
      "metadata": {
        "id": "VRlNAgFzJCE2"
      },
      "execution_count": null,
      "outputs": []
    },
    {
      "cell_type": "code",
      "source": [
        "#13. College Major Selector: Design a program that helps students choose a college major based on their interests, skills, and job market trends. (Variables: interests, skills, trends; Operators: ==, !=; If-else: match user profile to potential majors)\n",
        "user_interests = input(\"Enter your interests: \")\n",
        "user_skills = input(\"Enter your skills: \")\n",
        "\n",
        "trendy_majors = [\"Data Science\", \"Software Engineering\", \"Environmental Science\", \"Healthcare Administration\"]\n",
        "\n",
        "if user_interests == \"Technology\" and user_skills == \"Programming\":\n",
        "     recommended_major = \"Computer Science\"\n",
        "elif user_interests == \"Environment\" and user_skills == \"Analysis\":\n",
        "     recommended_major = \"Environmental Science\"\n",
        "elif user_interests == \"Healthcare\" and user_skills == \"Management\":\n",
        "     recommended_major = \"Healthcare Administration\"\n",
        "else:\n",
        "    recommended_major = \"Undecided\"\n",
        "\n",
        "if recommended_major in trendy_majors:\n",
        "    print(\"We recommend {recommended_major}, a trending major.\")\n",
        "else:\n",
        "    print(\"We recommend {recommended_major}.\")\n",
        "\n"
      ],
      "metadata": {
        "id": "498Bg4tgJZ3B"
      },
      "execution_count": null,
      "outputs": []
    },
    {
      "cell_type": "code",
      "source": [
        "#14. Carbon Footprint Calculator: Create a program that estimates an individual's carbon footprint based on their transportation, energy usage, and consumption habits. (Variables: activities, consumption; Operators: +, -, *, /; If-else: calculate footprint based on different factors) Recycling Assistant: Design a program that identifies different types of waste and suggests proper recycling or disposal methods based on local regulations. (Variables: waste type; Operators: ==, !=; If-else: match waste to disposal methods)\n",
        "\n",
        "transportation_emissions = float(input(\"Enter your transportation emissions (in kg CO2/year): \"))\n",
        "energy_emissions = float(input(\"Enter your energy usage emissions (in kg CO2/year): \"))\n",
        "consumption_emissions = float(input(\"Enter your consumption emissions (in kg CO2/year): \"))\n",
        "\n",
        "total_emissions = transportation_emissions + energy_emissions + consumption_emissions\n",
        "\n",
        "if total_emissions < 5:\n",
        "    category = \"Low\"\n",
        "elif total_emissions < 15:\n",
        "    category = \"Moderate\"\n",
        "else:\n",
        "    category = \"High\"\n",
        "\n",
        "print(f\"Your estimated carbon footprint is {total_emissions:.2f} kg CO2/year.\")\n",
        "print(f\"This puts you in the {category} carbon footprint category.\")\n",
        "\n",
        "\n",
        "waste_type = input(\"Enter the type of waste: \")\n",
        "\n",
        "if waste_type == \"Plastic\":\n",
        "    disposal_method = \"Recycle in designated plastic recycling bin.\"\n",
        "elif waste_type == \"Glass\":\n",
        "    disposal_method = \"Recycle in designated glass recycling bin.\"\n",
        "elif waste_type == \"Paper\":\n",
        "    disposal_method = \"Recycle in designated paper recycling bin.\"\n",
        "elif waste_type == \"Electronics\":\n",
        "    disposal_method = \"Dispose of at electronic waste collection center.\"\n",
        "else:\n",
        "    disposal_method = \"Check local regulations for proper disposal.\"\n",
        "\n",
        "# Display suggestion\n",
        "print(f\"For {waste_type}, it is recommended to: {disposal_method}\")\n",
        "\n",
        "\n",
        "\n"
      ],
      "metadata": {
        "id": "XIZrdIgNJ3DY"
      },
      "execution_count": null,
      "outputs": []
    }
  ]
}
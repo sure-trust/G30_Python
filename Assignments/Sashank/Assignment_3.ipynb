{
  "nbformat": 4,
  "nbformat_minor": 0,
  "metadata": {
    "colab": {
      "provenance": []
    },
    "kernelspec": {
      "name": "python3",
      "display_name": "Python 3"
    },
    "language_info": {
      "name": "python"
    }
  },
  "cells": [
    {
      "cell_type": "code",
      "execution_count": 11,
      "metadata": {
        "colab": {
          "base_uri": "https://localhost:8080/"
        },
        "id": "X5m453YDDiE3",
        "outputId": "12679594-a022-45c2-96bd-1d72bb67d654"
      },
      "outputs": [
        {
          "output_type": "stream",
          "name": "stdout",
          "text": [
            "Welcome to Hangman!\n",
            "Try to guess the word. You have 6 attempts.\n",
            "______\n",
            "Enter a letter: a\n",
            "The letter you have guessed is not in the word.\n",
            "______\n",
            "Attempts left: 5\n",
            "Enter a letter: m\n",
            "The letter you have guessed is not in the word.\n",
            "______\n",
            "Attempts left: 4\n",
            "Enter a letter: o\n",
            "Good guess!\n",
            "____o_\n",
            "Attempts left: 4\n",
            "Enter a letter: p\n",
            "Good guess!\n",
            "p___o_\n",
            "Attempts left: 4\n",
            "Enter a letter: y\n",
            "Good guess!\n",
            "py__o_\n",
            "Attempts left: 4\n",
            "Enter a letter: t\n",
            "Good guess!\n",
            "pyt_o_\n",
            "Attempts left: 4\n",
            "Enter a letter: p\n",
            "you have already guessed that letter.\n",
            "Enter a letter: w\n",
            "The letter you have guessed is not in the word.\n",
            "pyt_o_\n",
            "Attempts left: 3\n",
            "Enter a letter: h\n",
            "Good guess!\n",
            "pytho_\n",
            "Attempts left: 3\n",
            "Enter a letter: l\n",
            "The letter you have guessed is not in the word.\n",
            "pytho_\n",
            "Attempts left: 2\n",
            "Enter a letter: n\n",
            "Good guess!\n",
            "python\n",
            " You've guessed the word: python\n"
          ]
        }
      ],
      "source": [
        "#1. Interactive Fiction Game(Hangman): Unravel the mystery word letter by letter in this classic word game. Use your deductive skills, guess wisely, and avoid the hangman's noose! (Topics: User input, strings, conditionals, loops)\n",
        "import random\n",
        "\n",
        "def choose_word():\n",
        "    words = [\"python\", \"hangman\", \"computer\", \"programming\", \"game\", \"code\"]\n",
        "    return random.choice(words)\n",
        "\n",
        "def display_word(word, guessed_letters):\n",
        "    display = \"\"\n",
        "    for letter in word:\n",
        "        if letter in guessed_letters:\n",
        "            display += letter\n",
        "        else:\n",
        "            display += \"_\"\n",
        "    return display\n",
        "\n",
        "def hangman():\n",
        "    word = choose_word()\n",
        "    guessed_letters = []\n",
        "    attempts = 6\n",
        "\n",
        "    print(\"Welcome to Hangman!\")\n",
        "    print(\"Try to guess the word. You have 6 attempts.\")\n",
        "    print(display_word(word, guessed_letters))\n",
        "\n",
        "    while True:\n",
        "        guess = input(\"Enter a letter: \")\n",
        "\n",
        "        if len(guess) != 1:\n",
        "            print(\"Please enter a single letter.\")\n",
        "            continue\n",
        "\n",
        "        elif guess in guessed_letters:\n",
        "            print(\"you have already guessed that letter.\")\n",
        "            continue\n",
        "\n",
        "        guessed_letters.append(guess)\n",
        "\n",
        "        if guess in word:\n",
        "            print(\"Good guess!\")\n",
        "        else:\n",
        "            print(\"The letter you have guessed is not in the word.\")\n",
        "            attempts -= 1\n",
        "\n",
        "        print(display_word(word, guessed_letters))\n",
        "\n",
        "        if \"_\" not in display_word(word, guessed_letters):\n",
        "            print(\" You've guessed the word:\", word)\n",
        "            break\n",
        "\n",
        "        if attempts == 0:\n",
        "            print(\"Please try again, you ran out of attempts. The word was:\", word)\n",
        "            break\n",
        "\n",
        "        print(\"Attempts left:\", attempts)\n",
        "\n",
        "hangman()\n"
      ]
    },
    {
      "cell_type": "code",
      "source": [
        "#3. Password Strength Checker: Craft an impenetrable shield against cyber threats! This checker analyzes your password's strength based on complexity criteria and suggests improvements for maximum security. (Topics: User input, strings, conditionals)\n",
        "def password():\n",
        "    print ('Enter a password\\nThe password must be between 6 and 12 characters.')\n",
        "\n",
        "    while True:\n",
        "        password = input('Password:  ')\n",
        "        if 6 <= len(password) < 12:\n",
        "            break\n",
        "        print ('The password must be between 6 and 12 characters.')\n",
        "\n",
        "    if password.lower() == password:\n",
        "        print ('Weak - The password only contains lowercase letters.')\n",
        "    elif password.upper() == password:\n",
        "        print ('Weak - The password only contains uppercase letters.')\n",
        "    elif password.isalnum():\n",
        "        print ('Weak - The password only contains letters and numbers.')\n",
        "    elif len(set(password)) < 5:\n",
        "        print ('Medium - The password could be more complex.')\n",
        "    else:\n",
        "        print ('Strong')\n",
        "\n",
        "password()"
      ],
      "metadata": {
        "colab": {
          "base_uri": "https://localhost:8080/"
        },
        "id": "bOyHin83DtZy",
        "outputId": "8936826e-d957-4bd6-d0fb-04a031d9ecbc"
      },
      "execution_count": 27,
      "outputs": [
        {
          "output_type": "stream",
          "name": "stdout",
          "text": [
            "Enter a password\n",
            "The password must be between 6 and 12 characters.\n",
            "Password:  Sashank@jm2\n",
            "Strong\n"
          ]
        }
      ]
    },
    {
      "cell_type": "code",
      "source": [
        "#4. Personal Budgeting App: Take control of your finances! This app tracks your income, expenses, and spending habits, empowering you to make informed decisions and achieve your financial goals. (Topics: User input, variables, operators, conditionals, loops)\n",
        "def budget():\n",
        "    income = 0\n",
        "    expenses = 0\n",
        "    total_spent = 0\n",
        "    num_transactions = 0\n",
        "\n",
        "    while True:\n",
        "        print ('Enter a transaction type (income, expense, or done): ')\n",
        "        transaction_type = input('Transaction type: ')\n",
        "\n",
        "        if transaction_type == 'income':\n",
        "            amount = int(input('Amount: '))\n",
        "            income += amount\n",
        "            num_transactions += 1\n",
        "            total_spent += amount\n",
        "\n",
        "        elif transaction_type == 'expense':\n",
        "            amount = int(input('Amount: '))\n",
        "            expenses += amount\n",
        "            num_transactions += 1\n",
        "            total_spent += amount\n",
        "\n",
        "        elif transaction_type == 'done':\n",
        "            break\n",
        "\n",
        "        else:\n",
        "            print ('Invalid transaction type.')\n",
        "\n",
        "    print ('Total income:', income)\n",
        "    print ('Total expenses:', expenses)\n",
        "    print ('Total spent:', total_spent)\n",
        "    print ('Number of transactions:', num_transactions)\n",
        "\n",
        "    if num_transactions > 0:\n",
        "        avg_spent = total_spent / num_transactions\n",
        "        print ('Average spent per transaction:', avg_spent)\n",
        "\n",
        "budget()"
      ],
      "metadata": {
        "colab": {
          "base_uri": "https://localhost:8080/"
        },
        "id": "LjuYQf9iKQbv",
        "outputId": "83f4c95f-6685-4c1d-a596-de4f345e1630"
      },
      "execution_count": 28,
      "outputs": [
        {
          "output_type": "stream",
          "name": "stdout",
          "text": [
            "Enter a transaction type (income, expense, or done): \n",
            "Transaction type: income\n",
            "Amount: 65\n",
            "Enter a transaction type (income, expense, or done): \n",
            "Transaction type: expense\n",
            "Amount: 45\n",
            "Enter a transaction type (income, expense, or done): \n",
            "Transaction type: expense\n",
            "Amount: 23\n",
            "Enter a transaction type (income, expense, or done): \n",
            "Transaction type: done\n",
            "Total income: 65\n",
            "Total expenses: 68\n",
            "Total spent: 133\n",
            "Number of transactions: 3\n",
            "Average spent per transaction: 44.333333333333336\n"
          ]
        }
      ]
    },
    {
      "cell_type": "code",
      "source": [
        "  #5. Interactive Quiz with Feedback: Test your knowledge and get insightful feedback! This quiz adapts to your responses, providing personalized feedback and learning opportunities. (Topics: User input, conditionals, strings, loops)\n",
        "  score = 0\n",
        "  number_of_questions = 5\n",
        "  print(\"Question 1: What is 2 + 2?\")\n",
        "  answer = int(input(\"Your answer: \"))\n",
        "  if answer == 4:\n",
        "      print(\"Correct!\")\n",
        "      score += 1\n",
        "  else:\n",
        "        print(\"Incorrect. The correct answer is 4.\")\n",
        "\n",
        "  print(\"Question 2: What is 5 - 3?\")\n",
        "  answer = int(input(\"Your answer: \"))\n",
        "  if  answer == 2:\n",
        "     print(\"Correct!\")\n",
        "     score += 1\n",
        "  else:\n",
        "        print(\"Incorrect. The correct answer is 2.\")\n",
        "\n",
        "  print(\"Question 3: What is 9/3?\")\n",
        "  answer = float(input(\"Your answer: \"))\n",
        "  if answer == 3:\n",
        "    print(\"Correct!\")\n",
        "    score += 1\n",
        "  else:\n",
        "        print(\"Incorrect. The correct answer is 3.\")\n",
        "\n",
        "  print(\"Question 4: What is 6 * 7?\")\n",
        "  answer = int(input(\"Your answer: \"))\n",
        "  if answer == 42:\n",
        "        print(\"Correct!\")\n",
        "        score += 1\n",
        "  else:\n",
        "        print(\"Incorrect. The correct answer is 42.\")\n",
        "\n",
        "\n",
        "  print(\"Question 5: What is the square root of 25?\")\n",
        "  answer = float(input(\"Your answer: \"))\n",
        "  if answer == 5.0:\n",
        "        print(\"Correct!\")\n",
        "        score += 1\n",
        "  else:\n",
        "        print(\"Incorrect. The correct answer is 5.0.\")\n",
        "  total_questions = number_of_questions\n",
        "  print(\"Your final score is\", score, \"out of\", total_questions)\n",
        "\n",
        "\n"
      ],
      "metadata": {
        "colab": {
          "base_uri": "https://localhost:8080/"
        },
        "id": "MlpYkKSkSMTO",
        "outputId": "884f8b6e-683b-44c6-f9ee-381e11bd6c1c"
      },
      "execution_count": 29,
      "outputs": [
        {
          "output_type": "stream",
          "name": "stdout",
          "text": [
            "Question 1: What is 2 + 2?\n",
            "Your answer: 4\n",
            "Correct!\n",
            "Question 2: What is 5 - 3?\n",
            "Your answer: 2\n",
            "Correct!\n",
            "Question 3: What is 9/3?\n",
            "Your answer: 3\n",
            "Correct!\n",
            "Question 4: What is 6 * 7?\n",
            "Your answer: 42\n",
            "Correct!\n",
            "Question 5: What is the square root of 25?\n",
            "Your answer: 5\n",
            "Correct!\n",
            "Your final score is 5 out of 5\n"
          ]
        }
      ]
    },
    {
      "cell_type": "code",
      "source": [
        "#6. Simple Currency Converter: Travel the world with ease! This converter instantly translates between currencies, ensuring you know exactly how much you're spending wherever you go. (Topics: User input, variables, operators, strings)\n",
        "def currency_converter():\n",
        "    usd_to_euro = 0.83\n",
        "    usd_to_gbp = 0.73\n",
        "    usd_to_jpy = 110.55\n",
        "\n",
        "    amount = float(input(\"Enter the amount in US dollars: \"))\n",
        "    currency_from = input(\"Enter the currency you want to convert from (EURO, GBP, JPY): \").upper()\n",
        "    currency_to = input(\"Enter the currency you want to convert to (EURO, GBP, JPY): \").upper()\n",
        "\n",
        "    if currency_from == \"EURO\":\n",
        "        amount_from = amount / usd_to_euro\n",
        "    elif currency_from == \"GBP\":\n",
        "        amount_from = amount / usd_to_gbp\n",
        "    elif currency_from == \"JPY\":\n",
        "        amount_from = amount / usd_to_jpy\n",
        "    else:\n",
        "        print(\"Invalid currency.\")\n",
        "        return\n",
        "\n",
        "    if currency_to == \"EURO\":\n",
        "        amount_to = amount_from * usd_to_euro\n",
        "    elif currency_to == \"GBP\":\n",
        "        amount_to = amount_from * usd_to_gbp\n",
        "    elif currency_to == \"JPY\":\n",
        "        amount_to = amount_from * usd_to_jpy\n",
        "    else:\n",
        "        print(\"Invalid currency.\")\n",
        "        return\n",
        "\n",
        "    print(amount, \"USD is equal to\", round(amount_to, 2), currency_to, \".\", sep=\"\")\n",
        "\n",
        "currency_converter()"
      ],
      "metadata": {
        "colab": {
          "base_uri": "https://localhost:8080/"
        },
        "id": "OyVz0oA7XF75",
        "outputId": "8936915d-e12c-4a1a-e988-67bb1649c334"
      },
      "execution_count": 34,
      "outputs": [
        {
          "output_type": "stream",
          "name": "stdout",
          "text": [
            "Enter the amount in US dollars: 45\n",
            "Enter the currency you want to convert from (EURO, GBP, JPY): GBP\n",
            "Enter the currency you want to convert to (EURO, GBP, JPY): JPY\n",
            "45.0USD is equal to6814.73JPY.\n"
          ]
        }
      ]
    },
    {
      "cell_type": "code",
      "source": [],
      "metadata": {
        "id": "0YmCmt0fm2Jm"
      },
      "execution_count": null,
      "outputs": []
    }
  ]
}
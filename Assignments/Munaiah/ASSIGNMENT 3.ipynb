{
  "nbformat": 4,
  "nbformat_minor": 0,
  "metadata": {
    "colab": {
      "provenance": []
    },
    "kernelspec": {
      "name": "python3",
      "display_name": "Python 3"
    },
    "language_info": {
      "name": "python"
    }
  },
  "cells": [
    {
      "cell_type": "code",
      "source": [
        "#HANGMAN GAME\n",
        "import random\n",
        "word_list=[\"apple\",\"mobile\",\"laptop\",\"python\"]\n",
        "lives=6\n",
        "chosen_word=random.choice(word_list)\n",
        "print(chosen_word)\n",
        "display=[]\n",
        "for i in range(len(chosen_word)):\n",
        "  display +='_'\n",
        "print(display)\n",
        "game_over=False\n",
        "while not game_over:\n",
        "  gussed_letter=input(\"Gusse a letter: \")\n",
        "  for position in range(len(chosen_word)):\n",
        "    letter=chosen_word[position]\n",
        "    if letter==gussed_letter:\n",
        "      display[position]=gussed_letter\n",
        "  print(display)\n",
        "  if gussed_letter not in chosen_word:\n",
        "    lives-=1\n",
        "    if lives==0:\n",
        "      game_over=True\n",
        "      print(\"You Loose!!\")\n",
        "  if '_' not in display:\n",
        "    game_over=True\n",
        "    print(\"You Win!!\")"
      ],
      "metadata": {
        "colab": {
          "base_uri": "https://localhost:8080/"
        },
        "id": "DL_1swTytxpC",
        "outputId": "ab58559c-ad4e-4914-b8f4-f84775a782c1"
      },
      "execution_count": 14,
      "outputs": [
        {
          "output_type": "stream",
          "name": "stdout",
          "text": [
            "apple\n",
            "['_', '_', '_', '_', '_']\n",
            "Gusse a letter: a\n",
            "['a', '_', '_', '_', '_']\n",
            "Gusse a letter: p\n",
            "['a', 'p', 'p', '_', '_']\n",
            "Gusse a letter: l\n",
            "['a', 'p', 'p', 'l', '_']\n",
            "Gusse a letter: e\n",
            "['a', 'p', 'p', 'l', 'e']\n",
            "You Win!!\n"
          ]
        }
      ]
    },
    {
      "cell_type": "code",
      "source": [
        "class GroceryBudgetTracker:\n",
        "    def __init__(self, budget):\n",
        "        self.budget = budget\n",
        "        self.expenses = []\n",
        "\n",
        "    def add_expense(self, item, cost):\n",
        "        self.expenses.append((item, cost))\n",
        "\n",
        "    def remaining_budget(self):\n",
        "        spent = sum(cost for item, cost in self.expenses)\n",
        "        return self.budget - spent\n",
        "\n",
        "    def overspending_alert(self):\n",
        "        if self.remaining_budget() < 0:\n",
        "            return f\"Warning: You have overspent your budget by {-self.remaining_budget()}.\"\n",
        "\n",
        "    def display_summary(self):\n",
        "        print(\"Grocery Budget Tracker Summary:\")\n",
        "        print(f\"Budget: ${self.budget}\")\n",
        "        print(\"Expenses:\")\n",
        "        for item, cost in self.expenses:\n",
        "            print(f\"- {item}: ${cost}\")\n",
        "        print(f\"Remaining Budget: ${self.remaining_budget()}\")\n",
        "        alert = self.overspending_alert()\n",
        "        if alert:\n",
        "            print(alert)"
      ],
      "metadata": {
        "id": "oBU7Y-qFxISi"
      },
      "execution_count": 18,
      "outputs": []
    },
    {
      "cell_type": "code",
      "source": [
        "class GroceryBudgetTracker:\n",
        "    def __init__(self, budget):\n",
        "        self.budget = budget\n",
        "        self.expenses = []\n",
        "    def add_expense(self, item, cost):\n",
        "        self.expenses.append((item, cost))\n",
        "\n",
        "    def remaining_budget(self):\n",
        "        spent = sum(cost for item, cost in self.expenses)\n",
        "        return self.budget - spent\n",
        "\n",
        "    def overspending_alert(self):\n",
        "        if self.remaining_budget() < 0:\n",
        "            return f\"Warning: You have overspent your budget by {-self.remaining_budget()}.\"\n",
        "\n",
        "    def display_summary(self):\n",
        "        print(\"Grocery Budget Tracker Summary:\")\n",
        "        print(f\"Budget: ${self.budget}\")\n",
        "        print(\"Expenses:\")\n",
        "        for item, cost in self.expenses:\n",
        "            print(f\"- {item}: ${cost}\")\n",
        "        print(f\"Remaining Budget: ${self.remaining_budget()}\")\n",
        "        alert = self.overspending_alert()\n",
        "        if alert:\n",
        "            print(alert)\n",
        "\n",
        "\n",
        "# Example Usage:\n",
        "budget_tracker.add_expense(\"Milk\", 2.5)\n",
        "budget_tracker.add_expense(\"Bread\", 3.0)\n",
        "budget_tracker.add_expense(\"Vegetables\", 15.0)\n",
        "\n",
        "budget_tracker.display_summary()\n"
      ],
      "metadata": {
        "colab": {
          "base_uri": "https://localhost:8080/"
        },
        "id": "cLdm8LzY01Xx",
        "outputId": "6235be73-1f04-41fb-bfa4-3233b0501e8a"
      },
      "execution_count": 24,
      "outputs": [
        {
          "output_type": "stream",
          "name": "stdout",
          "text": [
            "Grocery Budget Tracker Summary:\n",
            "Budget: $200\n",
            "Expenses:\n",
            "- Milk: $2.5\n",
            "- Bread: $3.0\n",
            "- Vegetables: $15.0\n",
            "- Milk: $2.5\n",
            "- Bread: $3.0\n",
            "- Vegetables: $15.0\n",
            "Remaining Budget: $159.0\n"
          ]
        }
      ]
    },
    {
      "cell_type": "code",
      "source": [
        "import re\n",
        "password = input(\"Enter yur password: \")\n",
        "if len(password) < 8:\n",
        "  print(\"password must be at least 8 characters long.\")\n",
        "elif not re.search(\"[A-Z]\",password):\n",
        "  print(\"password must contain at least one uppercaseletter.\")\n",
        "elif not re.search(\"[a-z]\",password):\n",
        "  print(\"password must contain at least one lowercaseletter.\")\n",
        "elif not re.search(\"[0-9]\",password):\n",
        "  print(\"password must contain at least one number.\")\n",
        "else:\n",
        "  print(\"password is strong\")"
      ],
      "metadata": {
        "colab": {
          "base_uri": "https://localhost:8080/"
        },
        "id": "KyJYTt5p2Yo0",
        "outputId": "2997b28f-992e-4d23-fa66-74872ccc6ce6"
      },
      "execution_count": 33,
      "outputs": [
        {
          "output_type": "stream",
          "name": "stdout",
          "text": [
            "Enter yur password: Muni0776\n",
            "password is strong\n"
          ]
        }
      ]
    },
    {
      "cell_type": "code",
      "source": [
        "balance=0.0\n",
        "print(\"Welcome to the Personal Budgeting App!\")\n",
        "while True:\n",
        "    print(\"\\nMenu:\")\n",
        "    print(\"1. Add Income\")\n",
        "    print(\"2. Add Expense\")\n",
        "    print(\"3. View Balance\")\n",
        "    print(\"4. Exit\")\n",
        "    choice = input(\"Enter your choice (1-4): \")\n",
        "    if choice == \"1\":\n",
        "        income = float(input(\"Enter the income amount: \"))\n",
        "        balance += income\n",
        "        print(f\"Income of ${income} added successfully.\")\n",
        "    elif choice == \"2\":\n",
        "        expense = float(input(\"Enter the expense amount: \"))\n",
        "        if expense > balance:\n",
        "            print(\"Error: Insufficient funds! Cannot add expense.\")\n",
        "        else:\n",
        "            balance -= expense\n",
        "            print(f\"Expense of ${expense} deducted successfully.\")\n",
        "    elif choice == \"3\":\n",
        "        print(f\"Current Balance: ${balance}\")\n",
        "    elif choice == \"4\":\n",
        "        print(\"Exiting the Personal Budgeting App. Goodbye!\")\n",
        "        break\n",
        "    else:\n",
        "        print(\"Invalid choice. Please enter a number from 1 to 4.\")\n",
        "\n"
      ],
      "metadata": {
        "colab": {
          "base_uri": "https://localhost:8080/"
        },
        "id": "SEZanVD45zsM",
        "outputId": "28894435-4295-4fe5-ab0b-609934c8e443"
      },
      "execution_count": null,
      "outputs": [
        {
          "output_type": "stream",
          "name": "stdout",
          "text": [
            "Welcome to the Personal Budgeting App!\n",
            "\n",
            "Menu:\n",
            "1. Add Income\n",
            "2. Add Expense\n",
            "3. View Balance\n",
            "4. Exit\n",
            "Enter your choice (1-4): 1\n",
            "Enter the income amount: 50000\n",
            "Income of $50000.0 added successfully.\n",
            "\n",
            "Menu:\n",
            "1. Add Income\n",
            "2. Add Expense\n",
            "3. View Balance\n",
            "4. Exit\n",
            "Enter your choice (1-4): 3\n",
            "Current Balance: $50000.0\n",
            "\n",
            "Menu:\n",
            "1. Add Income\n",
            "2. Add Expense\n",
            "3. View Balance\n",
            "4. Exit\n"
          ]
        }
      ]
    },
    {
      "cell_type": "code",
      "source": [
        "# Define a list of questions and corresponding answers\n",
        "questions = [\n",
        "    \"What is the capital of France?\",\n",
        "    \"Which planet is known as the Red Planet?\",\n",
        "    \"Who wrote 'Romeo and Juliet'?\",\n",
        "]\n",
        "\n",
        "answers = [\n",
        "    \"Paris\",\n",
        "    \"Mars\",\n",
        "    \"William Shakespeare\",\n",
        "]\n",
        "\n",
        "# Initialize a variable to keep track of the score\n",
        "score = 0\n",
        "\n",
        "# Loop through each question and ask the user for input\n",
        "for i in range(len(questions)):\n",
        "    print(\"Question\", i + 1)\n",
        "    print(questions[i])\n",
        "    user_answer = input(\"Your answer: \")\n",
        "\n",
        "    # Check if the user's answer is correct\n",
        "    if user_answer.lower() == answers[i].lower():\n",
        "        print(\"Correct!\")\n",
        "        score += 1\n",
        "    else:\n",
        "        print(\"Incorrect. The correct answer is:\", answers[i])\n",
        "\n",
        "# Provide feedback based on the score\n",
        "print(\"\\nQuiz complete!\")\n",
        "print(\"You scored\", score, \"out of\", len(questions))\n",
        "\n",
        "if score == len(questions):\n",
        "    print(\"Congratulations! You got all the answers correct.\")\n",
        "elif score >= len(questions) / 2:\n",
        "    print(\"Well done! You did pretty well.\")\n",
        "else:\n",
        "    print(\"Better luck next time. Keep practicing!\")"
      ],
      "metadata": {
        "id": "Oh8o7q0V9X_o"
      },
      "execution_count": null,
      "outputs": []
    },
    {
      "cell_type": "code",
      "source": [
        "_def usd_to_inr_converter(amount):\n",
        "    exchange_rate_usd_to_inr = 74.21\n",
        "    return amount * exchange_rate_usd_to_inr\n",
        "\n",
        "if __name__ == \"__main__\":\n",
        "    amount_to_convert = float(input(\"Enter thr amount in USD to convert in INR: \"))\n",
        "    converted_amount_inr = usd_to_inr_converter(amount_to_convert)\n",
        "    print(f\"{amount_to_convert} USD is equal to {converted_amount_inr:.2f} INR\")\n"
      ],
      "metadata": {
        "id": "un3g5MQQAifv"
      },
      "execution_count": null,
      "outputs": []
    }
  ]
}
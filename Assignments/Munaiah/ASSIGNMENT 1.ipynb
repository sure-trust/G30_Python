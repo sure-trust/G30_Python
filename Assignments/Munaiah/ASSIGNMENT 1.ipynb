{
  "cells": [
    {
      "cell_type": "code",
      "source": [
        "N=int(input(\"ITEMS=\"))\n",
        "Quantites=[1,2,3,4,5]\n",
        "Prices=[8,5,7,2,6]\n",
        "for i in range(0,N):\n",
        "    print(\"ITEM:\",i+1)\n",
        "    print(\"Price=\",Prices[i])\n",
        "    print(\"Quantity=\",Quantites[i])\n",
        "    if Quantites[i]>3:\n",
        "        print(\"Discount=\",Prices[i]*Quantites[i]*0.15)  #15%Discount on price\n",
        "        print(\"Total=\",Prices[i]*Quantites[i]-Prices[i]*Quantites[i]*0.15)\n",
        "    else:\n",
        "        print(\"Total=\",Prices[i]*Quantites[i])"
      ],
      "metadata": {
        "colab": {
          "base_uri": "https://localhost:8080/"
        },
        "id": "D1R_5nBSxTzS",
        "outputId": "bc8fb7d9-a33c-405e-cf1a-20c20d8099d5"
      },
      "execution_count": null,
      "outputs": [
        {
          "output_type": "stream",
          "name": "stdout",
          "text": [
            "ITEMS=5\n",
            "ITEM: 1\n",
            "Price= 8\n",
            "Quantity= 1\n",
            "Total= 8\n",
            "ITEM: 2\n",
            "Price= 5\n",
            "Quantity= 2\n",
            "Total= 10\n",
            "ITEM: 3\n",
            "Price= 7\n",
            "Quantity= 3\n",
            "Total= 21\n",
            "ITEM: 4\n",
            "Price= 2\n",
            "Quantity= 4\n",
            "Discount= 1.2\n",
            "Total= 6.8\n",
            "ITEM: 5\n",
            "Price= 6\n",
            "Quantity= 5\n",
            "Discount= 4.5\n",
            "Total= 25.5\n"
          ]
        }
      ]
    },
    {
      "cell_type": "code",
      "source": [
        "budget=int(input(\"Enter budget of yours \"))\n",
        "item_prices=[200,500,450,1000]\n",
        "sum=0\n",
        "for i in range(0,4):\n",
        "    sum=sum+item_prices[i]\n",
        "print(\"Sum of items:\",sum)\n",
        "if sum<=budget:\n",
        "    print(\"Remaining amount = \",budget-sum)\n",
        "else:\n",
        "    s=sum-budget\n",
        "    print(\"Insufficient amount to purchase :\",s)\n",
        "    sum1=0\n",
        "    for i in range(0,4):\n",
        "        if s<=item_prices[i]:\n",
        "            sum=sum-item_prices[i]\n",
        "            break\n",
        "    print(\"After removing the item :\",sum)\n"
      ],
      "metadata": {
        "id": "oaNFnnWVxuWL",
        "colab": {
          "base_uri": "https://localhost:8080/"
        },
        "outputId": "57218949-3b60-436b-84d5-16e7ad21f833"
      },
      "execution_count": 2,
      "outputs": [
        {
          "output_type": "stream",
          "name": "stdout",
          "text": [
            "Enter budget of yours 5000\n",
            "Sum of items: 2150\n",
            "Remaining amount =  2850\n"
          ]
        }
      ]
    },
    {
      "cell_type": "code",
      "source": [
        "distance=int(input(\"Enter distance in miles:\"))\n",
        "gas_price=int(input(\"Enter gas price:\"))\n",
        "way=str(input(\"enter way like highway or city:\"))\n",
        "if way==\"highway\":\n",
        "    mileage=35\n",
        "else:\n",
        "    mileage=50\n",
        "fuel_cost=(distance/mileage)*gas_price\n",
        "travel_time=(distance*1.8)*20\n",
        "print(\"Fuel Cost=\",fuel_cost,\"Travel Time in mins =\",travel_time)\n"
      ],
      "metadata": {
        "colab": {
          "base_uri": "https://localhost:8080/"
        },
        "id": "VkRCLqXxyMuw",
        "outputId": "b8cd5ed3-c852-49ae-bcd5-bf98b9061128"
      },
      "execution_count": 3,
      "outputs": [
        {
          "output_type": "stream",
          "name": "stdout",
          "text": [
            "Enter distance in miles:520\n",
            "Enter gas price:70\n",
            "enter way like highway or city:city\n",
            "Fuel Cost= 728.0 Travel Time in mins = 18720.0\n"
          ]
        }
      ]
    },
    {
      "cell_type": "code",
      "source": [
        "weather=str(input(\"Enter weather (hot,cold)\"))\n",
        "amenities=str(input(\"Enter amentities (Trecking,fishing,campfire)\"))\n",
        "if weather==\"hot\":\n",
        "    if amenities==\"trecking\":\n",
        "        print(\"Get climbing equipments,water bottle,loose clothes,hat,sunglasses\")\n",
        "    elif(amenities==\"fishing\"):\n",
        "        print(\"Get fishing equipments,water bottle,loose clothes,hat,sunglasses,barbecque\")\n",
        "    else:\n",
        "        print(\"Get water bottle,loose clothes,hat,sunglasses\")\n",
        "else:\n",
        "    if amenities==\"campfire\":\n",
        "        print(\"Get sweater,raincoats and equipment for campfire like matchbox \")\n",
        "    else:\n",
        "        print(\"Get heater ,sweater\")"
      ],
      "metadata": {
        "colab": {
          "base_uri": "https://localhost:8080/"
        },
        "id": "Tuz4r5pJydG3",
        "outputId": "d4c99974-ecee-42ac-c522-538e303d3035"
      },
      "execution_count": 4,
      "outputs": [
        {
          "output_type": "stream",
          "name": "stdout",
          "text": [
            "Enter weather (hot,cold)hot\n",
            "Enter amentities (Trecking,fishing,campfire)fishing\n",
            "Get fishing equipments,water bottle,loose clothes,hat,sunglasses,barbecque\n"
          ]
        }
      ]
    },
    {
      "cell_type": "code",
      "source": [
        "risk=float(input(\"Enter a number such that user can take risk(2-5):\"))\n",
        "if risk<=2:\n",
        "    if risk<2:\n",
        "        print(\"Gold :\")\n",
        "        returns=8\n",
        "    else:\n",
        "        print(\"Stocks\")\n",
        "        returns=20\n",
        "else:\n",
        "    if risk<3:\n",
        "        print(\"Real estate\")\n",
        "        returns=8\n",
        "    else:\n",
        "        print(\"Cryptocurrency\")\n",
        "        returns=15\n",
        "print(returns)"
      ],
      "metadata": {
        "colab": {
          "base_uri": "https://localhost:8080/"
        },
        "id": "TNA_kA3dynPS",
        "outputId": "1f596802-635d-4e7d-ae1d-e2d4472f5aee"
      },
      "execution_count": 5,
      "outputs": [
        {
          "output_type": "stream",
          "name": "stdout",
          "text": [
            "Enter a number such that user can take risk(2-5):4\n",
            "Cryptocurrency\n",
            "15\n"
          ]
        }
      ]
    },
    {
      "cell_type": "code",
      "source": [
        "ingredients=str(input(\"Enter like veggies,flour,rice: \"))\n",
        "restrictions=str(input(\"Enter like on diet/no diet: \"))\n",
        "if ingredients==\"flour\":\n",
        "    if restrictions!=\"on diet\":\n",
        "        print(\"Gulab Jamun,Cake,Laddu\")\n",
        "    else:\n",
        "        print(\"Roti ,bread\")\n",
        "elif ingredients==\"rice\":\n",
        "    if restrictions==\"on diet\":\n",
        "        print(\"No rice\")\n",
        "    else:\n",
        "        print(\"Briyani!!\")\n",
        "else:\n",
        "    if restrictions==\"on diet\":\n",
        "        print(\"Salad ,oats,juices,fruits\")\n",
        "    else:\n",
        "        print(\"aloo matar,bendi masala\")"
      ],
      "metadata": {
        "colab": {
          "base_uri": "https://localhost:8080/"
        },
        "id": "0bkpAJrczM6N",
        "outputId": "6c7ca0e4-382a-4683-bd66-7c2dc37ce193"
      },
      "execution_count": 6,
      "outputs": [
        {
          "output_type": "stream",
          "name": "stdout",
          "text": [
            "Enter like veggies,flour,rice: rice\n",
            "Enter like on diet/no diet: diet\n",
            "Briyani!!\n"
          ]
        }
      ]
    },
    {
      "cell_type": "code",
      "source": [
        "fitness_level=str(input(\"Enter fitness level(beginner/intermediate/advanced\"))\n",
        "if fitness_level==\"beginner\":\n",
        "    print(\"No equipment needed\")\n",
        "    print(\"walking,push-ups\")\n",
        "elif fitness_level==\"intermediate\":\n",
        "    print(\"Running,skipping,dumb bells,planks\")\n",
        "    equipment=\"Treadmill,Skipping ropes,Dumb bells,Yoga mat\"\n",
        "else:\n",
        "    print(\"Dead lifts,pull ups,dips,squat,lunge\")\n",
        "    equipment=\"bar bell,lifts,leg press machine,battle ropes,boxing machine\"\n",
        "print(\"equipment\")"
      ],
      "metadata": {
        "colab": {
          "base_uri": "https://localhost:8080/"
        },
        "id": "JKSXEhvFzWgs",
        "outputId": "f5905b80-dcb8-4a78-bd07-88f71ea663db"
      },
      "execution_count": 8,
      "outputs": [
        {
          "output_type": "stream",
          "name": "stdout",
          "text": [
            "Enter fitness level(beginner/intermediate/advancedadvanced\n",
            "Dead lifts,pull ups,dips,squat,lunge\n",
            "equipment\n"
          ]
        }
      ]
    },
    {
      "cell_type": "code",
      "source": [
        "deadlines=float(input(\"Enter no of days left for submission:(1-5)\"))\n",
        "importance=int(input(\"Enter importance:\"))\n",
        "priority=deadlines*importance\n",
        "if deadlines<=3:\n",
        "    if deadlines<2:\n",
        "        print(\"Task a with priority = \",priority)\n",
        "    else:\n",
        "        print(\"Task b with priority = \",priority)\n",
        "else:\n",
        "    if deadlines<=4:\n",
        "        print(\"Task c with priority = \",priority)\n",
        "    else:\n",
        "        print(\"Task d with priority = \",priority)"
      ],
      "metadata": {
        "colab": {
          "base_uri": "https://localhost:8080/"
        },
        "id": "zfusRAhXzoFb",
        "outputId": "bb917bf5-86cd-44eb-bb52-1dd108f1dab4"
      },
      "execution_count": 9,
      "outputs": [
        {
          "output_type": "stream",
          "name": "stdout",
          "text": [
            "Enter no of days left for submission:(1-5)4\n",
            "Enter importance:5\n",
            "Task c with priority =  20.0\n"
          ]
        }
      ]
    },
    {
      "cell_type": "code",
      "source": [
        "goal_amount=float(input(\"Enter amount:\"))\n",
        "timeline=int(input(\"Enter time left in months:\"))\n",
        "current_savings=float(input(\"Enter amount saved:\"))\n",
        "if current_savings  - goal_amount >=0:\n",
        "    print(\"You have enough amount\")\n",
        "else :\n",
        "    print(\"Amount to be earned \", goal_amount - current_savings  ,\"time left = \",timeline)\n",
        "\n"
      ],
      "metadata": {
        "colab": {
          "base_uri": "https://localhost:8080/"
        },
        "id": "DCd4OoNW4IpW",
        "outputId": "831db256-1f48-4188-9354-89d8c509046b"
      },
      "execution_count": 10,
      "outputs": [
        {
          "output_type": "stream",
          "name": "stdout",
          "text": [
            "Enter amount:200\n",
            "Enter time left in months:4\n",
            "Enter amount saved:500\n",
            "You have enough amount\n"
          ]
        }
      ]
    },
    {
      "cell_type": "code",
      "source": [
        "schedule=int(input(\"Enter time in 24hrs format:(6-22)\"))\n",
        "medication=str(input(\"Enter medication type daily or weekly\"))\n",
        "if schedule<=12:\n",
        "    if schedule<=6:\n",
        "        if medication==\"daily\":\n",
        "            print(\" Reminder for Medication name A\")\n",
        "            dosage=2\n",
        "        else:\n",
        "            print(\"Reminder for Medication name B\")\n",
        "            dosage=1\n",
        "    else:\n",
        "        if medication==\"daily\":\n",
        "            print(\" Reminder for Medication name C\")\n",
        "            dosage=0.5\n",
        "        else:\n",
        "            print(\" Reminder for Medication name D\")\n",
        "            dosage=1.5\n",
        "else:\n",
        "    if schedule<=17 :\n",
        "        if medication==\"daily\":\n",
        "            print(\" Reminder for Medication name E\")\n",
        "            dosage=3\n",
        "        else:\n",
        "            print(\"Reminder for Medication name F\")\n",
        "            dosage=1\n",
        "    else:\n",
        "        if medication==\"daily\":\n",
        "            print(\" Reminder for Medication name G\")\n",
        "            dosage=2.5\n",
        "        else:\n",
        "            print(\" Reminder for Medication name H\")\n",
        "            dosage=0.5\n",
        "print(\"Take dosage = \",dosage)\n"
      ],
      "metadata": {
        "colab": {
          "base_uri": "https://localhost:8080/"
        },
        "id": "gb4sD0EU4QLt",
        "outputId": "eed9fe2f-964b-4b83-9c4f-4bc6f55ff6e4"
      },
      "execution_count": 11,
      "outputs": [
        {
          "output_type": "stream",
          "name": "stdout",
          "text": [
            "Enter time in 24hrs format:(6-22)21\n",
            "Enter medication type daily or weeklydaily\n",
            " Reminder for Medication name G\n",
            "Take dosage =  2.5\n"
          ]
        }
      ]
    },
    {
      "cell_type": "code",
      "source": [
        "symptom1=str(input(\"Enter your first symptom1 (migrane,flu) : \"))\n",
        "symptom2=str(input(\"Enter your first symptom2 (dehydration,food posioning,body pains,itchy thorat) : \"))\n",
        "if symptom1==\"migrane\":\n",
        "    if symptom2==\"dehydration\":\n",
        "        print(\"It may be headache\")\n",
        "    if symptom2==\"food posioning\":\n",
        "        print(\"It may be nausea\")\n",
        "    else:\n",
        "        print(\"It may be increase of eye sight\")\n",
        "elif symptom1==\"flu\":\n",
        "    if symptom2==\"bodypains\":\n",
        "        print(\"It may be fever\")\n",
        "    if symptom2==\"itchy thorat\":\n",
        "        print(\"It may be cough\")\n",
        "    else:\n",
        "        print(\"It may be allergy\")"
      ],
      "metadata": {
        "colab": {
          "base_uri": "https://localhost:8080/"
        },
        "id": "O0U-zlcF4uZE",
        "outputId": "09a31f71-73d5-429a-da90-e79202bd7740"
      },
      "execution_count": 12,
      "outputs": [
        {
          "output_type": "stream",
          "name": "stdout",
          "text": [
            "Enter your first symptom1 (migrane,flu) : flu\n",
            "Enter your first symptom2 (dehydration,food posioning,body pains,itchy thorat) : body\n",
            "It may be allergy\n"
          ]
        }
      ]
    },
    {
      "cell_type": "code",
      "source": [
        "assignment=float(input(\"Enter marks you have scored for assignment : \"))\n",
        "exams=float(input(\"Enter marks you have scored for exams:\"))\n",
        "attendance=float(input(\"Enter marks you have scored for attendance : \"))\n",
        "weight=assignment*0.4+exams*0.5+attendance*0.1\n",
        "if weight>=90:\n",
        "    grade='A'\n",
        "elif weight>=80:\n",
        "    grade='B'\n",
        "elif weight>=70:\n",
        "    grade='C'\n",
        "else:\n",
        "    grade=\"F\"\n",
        "print(\"Your total weight is = \",weight)\n",
        "print(\"You have received grade = \",grade)"
      ],
      "metadata": {
        "colab": {
          "base_uri": "https://localhost:8080/"
        },
        "id": "Gh8gylG946K-",
        "outputId": "af82baa2-01f2-45fa-dc1b-a12055db2f09"
      },
      "execution_count": 13,
      "outputs": [
        {
          "output_type": "stream",
          "name": "stdout",
          "text": [
            "Enter marks you have scored for assignment : 50\n",
            "Enter marks you have scored for exams:60\n",
            "Enter marks you have scored for attendance : 78\n",
            "Your total weight is =  57.8\n",
            "You have received grade =  F\n"
          ]
        }
      ]
    },
    {
      "cell_type": "code",
      "source": [
        "skills=str(input(\"Enter your skills(coding,reasearch) :\"))\n",
        "interests=str(input(\"Enter your interests(programming,reading) : \"))\n",
        "trends=0\n",
        "if skills==\"coding\":\n",
        "    if interests==\"programming\":\n",
        "        trends=8\n",
        "    if interests==\"logic\":\n",
        "        trends=10\n",
        "if skills==\"research\":\n",
        "    if interests==\"reading\":\n",
        "        trends=9\n",
        "    if interests==\"nature\":\n",
        "\t    trends=12\n",
        "if trends<=3:\n",
        "    print(\"Trends = \",trends)\n",
        "    print(\"Not eligilble for college major\")\n",
        "else:\n",
        "    print(\"Trends = \",trends)\n",
        "    print(\"Eligible for college major\")\n"
      ],
      "metadata": {
        "colab": {
          "base_uri": "https://localhost:8080/"
        },
        "id": "qeO535hy5DnA",
        "outputId": "f6929f96-e1ce-4141-db7d-9c4dbd2a9c2f"
      },
      "execution_count": 14,
      "outputs": [
        {
          "output_type": "stream",
          "name": "stdout",
          "text": [
            "Enter your skills(coding,reasearch) :research\n",
            "Enter your interests(programming,reading) : programming\n",
            "Trends =  0\n",
            "Not eligilble for college major\n"
          ]
        }
      ]
    },
    {
      "cell_type": "code",
      "source": [
        "transportation=str(input(\"Enter your transport like car,bike: \"))\n",
        "activites=float(input(\"Enter your distance : \"))\n",
        "if transportation==\"car\":\n",
        "    if activites<=200:\n",
        "        energy_usage=100\n",
        "        consumption=activites*2.5+energy_usage*1.5\n",
        "    else:\n",
        "        energy_usage=300\n",
        "        consumption=activites*3+energy_usage*2.5\n",
        "if transportation==\"bike\":\n",
        "    if activites<=250:\n",
        "        energy_usage=150\n",
        "        consumption=activites*1.8+energy_usage*1.5\n",
        "    else:\n",
        "        energy_usage=300\n",
        "        consumption=activites*2+energy_usage*1.5\n",
        "else:\n",
        "    if activites<=280:\n",
        "        energy_usage=300\n",
        "        consumption=activites*2.8+energy_usage*2.5\n",
        "    else:\n",
        "        energy_usage=350\n",
        "        consumption=activites*2.2+energy_usage*2.5\n",
        "print(\"Carbon foot print = \",consumption)"
      ],
      "metadata": {
        "colab": {
          "base_uri": "https://localhost:8080/"
        },
        "id": "ZeJ6N2Sa5QrD",
        "outputId": "aa5430d4-2b08-487f-81b4-eb19cc7864cd"
      },
      "execution_count": 15,
      "outputs": [
        {
          "output_type": "stream",
          "name": "stdout",
          "text": [
            "Enter your transport like car,bike: car\n",
            "Enter your distance : 5000\n",
            "Carbon foot print =  11875.0\n"
          ]
        }
      ]
    },
    {
      "cell_type": "code",
      "source": [
        "waste=str(input(\"Enter waste to throw : \"))\n",
        "if waste==\"paper\" or waste==\"glass\" or waste==\"metals\":\n",
        "    waste_type=\"recyclable waste\"\n",
        "    disposal_method=\"Recycle in designated bins.\"\n",
        "elif waste==\"batteries\" or waste==\"chemiclas\" or waste==\"scrap\":\n",
        "    waste_type=\"hazardous waste\"\n",
        "    disposal_method=\"Dispose of at a hazardous waste collection facility.\"\n",
        "elif waste==\"food\" or waste==\"dung\":\n",
        "    waste_type=\"organic waste\"\n",
        "    disposal_method=\"Compost or dispose of in green waste bins.\"\n",
        "else:\n",
        "    waste_type=\"non recyclable waste\"\n",
        "    disposal_method=\"Unable to determine disposal method\"\n",
        "print(\"Waste type = \",waste_type)\n",
        "print(\"Disposal method = \",disposal_method)"
      ],
      "metadata": {
        "colab": {
          "base_uri": "https://localhost:8080/"
        },
        "id": "1kKaIREu5ZWa",
        "outputId": "17cf2507-f1ae-4ccf-a723-76eaf9ce7c95"
      },
      "execution_count": 16,
      "outputs": [
        {
          "output_type": "stream",
          "name": "stdout",
          "text": [
            "Enter waste to throw : paper\n",
            "Waste type =  recyclable waste\n",
            "Disposal method =  Recycle in designated bins.\n"
          ]
        }
      ]
    }
  ],
  "metadata": {
    "colab": {
      "provenance": []
    },
    "kernelspec": {
      "display_name": "Python 3",
      "name": "python3"
    },
    "language_info": {
      "name": "python"
    }
  },
  "nbformat": 4,
  "nbformat_minor": 0
}
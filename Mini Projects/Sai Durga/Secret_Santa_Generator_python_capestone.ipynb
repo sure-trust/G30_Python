{
  "nbformat": 4,
  "nbformat_minor": 0,
  "metadata": {
    "colab": {
      "provenance": []
    },
    "kernelspec": {
      "name": "python3",
      "display_name": "Python 3"
    },
    "language_info": {
      "name": "python"
    }
  },
  "cells": [
    {
      "cell_type": "code",
      "execution_count": null,
      "metadata": {
        "colab": {
          "base_uri": "https://localhost:8080/"
        },
        "id": "2chvcA7kuJQY",
        "outputId": "44723dc5-52a8-41e6-f5fe-7a1118814ce4"
      },
      "outputs": [
        {
          "output_type": "stream",
          "name": "stdout",
          "text": [
            "Collecting yagmail\n",
            "  Downloading yagmail-0.15.293-py2.py3-none-any.whl (17 kB)\n",
            "Collecting premailer (from yagmail)\n",
            "  Downloading premailer-3.10.0-py2.py3-none-any.whl (19 kB)\n",
            "Requirement already satisfied: lxml in /usr/local/lib/python3.10/dist-packages (from premailer->yagmail) (4.9.4)\n",
            "Collecting cssselect (from premailer->yagmail)\n",
            "  Downloading cssselect-1.2.0-py2.py3-none-any.whl (18 kB)\n",
            "Collecting cssutils (from premailer->yagmail)\n",
            "  Downloading cssutils-2.9.0-py3-none-any.whl (398 kB)\n",
            "\u001b[2K     \u001b[90m━━━━━━━━━━━━━━━━━━━━━━━━━━━━━━━━━━━━━━━━\u001b[0m \u001b[32m398.5/398.5 kB\u001b[0m \u001b[31m6.1 MB/s\u001b[0m eta \u001b[36m0:00:00\u001b[0m\n",
            "\u001b[?25hRequirement already satisfied: requests in /usr/local/lib/python3.10/dist-packages (from premailer->yagmail) (2.31.0)\n",
            "Requirement already satisfied: cachetools in /usr/local/lib/python3.10/dist-packages (from premailer->yagmail) (5.3.3)\n",
            "Requirement already satisfied: charset-normalizer<4,>=2 in /usr/local/lib/python3.10/dist-packages (from requests->premailer->yagmail) (3.3.2)\n",
            "Requirement already satisfied: idna<4,>=2.5 in /usr/local/lib/python3.10/dist-packages (from requests->premailer->yagmail) (3.6)\n",
            "Requirement already satisfied: urllib3<3,>=1.21.1 in /usr/local/lib/python3.10/dist-packages (from requests->premailer->yagmail) (2.0.7)\n",
            "Requirement already satisfied: certifi>=2017.4.17 in /usr/local/lib/python3.10/dist-packages (from requests->premailer->yagmail) (2024.2.2)\n",
            "Installing collected packages: cssutils, cssselect, premailer, yagmail\n",
            "Successfully installed cssselect-1.2.0 cssutils-2.9.0 premailer-3.10.0 yagmail-0.15.293\n",
            "Enter the number of participants: 3\n",
            "Enter participant 1's name: laxmi\n",
            "Enter participant 1's email (optional): nandhasai1919@gmail.com\n",
            "Enter participant 1's wishlist (optional): books\n",
            "Enter participant 2's name: sai\n",
            "Enter participant 2's email (optional): saiabap1993@gmail.com\n",
            "Enter participant 2's wishlist (optional): pens\n",
            "Enter participant 3's name: yash\n",
            "Enter participant 3's email (optional): sailovein@gmail.com\n",
            "Enter participant 3's wishlist (optional): noodles\n",
            "Do you want to add exclusion rules? (yes/no): yes\n",
            "Enter exclusion rule in the format 'participant1,participant2' (or type 'done' to finish): laxmi,sai\n",
            "Enter exclusion rule in the format 'participant1,participant2' (or type 'done' to finish): done\n",
            "Your Secret Santa assignment is: sai\n",
            "Your Secret Santa assignment is: yash\n",
            "Your Secret Santa assignment is: laxmi\n",
            "Do you want to send email notifications to participants? (yes/no): yes\n",
            "Enter your email address: upparapalli.sdp@gmail.com\n",
            "Enter your email password: jnevqfdatsjmrpop\n",
            "Email notification sent to sai at saiabap1993@gmail.com.\n",
            "Email notification sent to yash at sailovein@gmail.com.\n",
            "Email notification sent to laxmi at nandhasai1919@gmail.com.\n",
            "laxmi's wishlist:\n",
            "books\n",
            "sai's wishlist:\n",
            "pens\n",
            "yash's wishlist:\n",
            "noodles\n"
          ]
        }
      ],
      "source": [
        "!pip install yagmail\n",
        "import random\n",
        "import yagmail\n",
        "\n",
        "class SecretSantaGenerator:\n",
        "    def __init__(self):\n",
        "        self.participants = {}\n",
        "        self.assignments = {}\n",
        "\n",
        "    def add_participant(self, name, email=None, wishlist=None):\n",
        "        self.participants[name] = {'email': email, 'wishlist': wishlist}\n",
        "\n",
        "    def generate_assignments(self, exclusion_rules=None):\n",
        "        participants = list(self.participants.keys())\n",
        "        random.shuffle(participants)\n",
        "        if exclusion_rules:\n",
        "            for rule in exclusion_rules:\n",
        "                if rule[0] in participants and rule[1] in participants:\n",
        "                    participants.remove(rule[1])\n",
        "                    participants.remove(rule[0])\n",
        "                    participants.insert(participants.index(rule[0]), rule[1])\n",
        "                    participants.insert(participants.index(rule[1]), rule[0])\n",
        "        self.assignments = {participants[i]: participants[(i + 1) % len(participants)] for i in range(len(participants))}\n",
        "\n",
        "    def display_assignment(self, participant):\n",
        "        print(f\"Your Secret Santa assignment is: {self.assignments.get(participant)}\")\n",
        "\n",
        "    def send_email_notification(self, sender_email, sender_password):\n",
        "        yag = yagmail.SMTP(sender_email, sender_password)\n",
        "        for participant, assigned_to in self.assignments.items():\n",
        "            receiver_email = self.participants[participant]['email']\n",
        "            subject = \"Secret Santa Assignment\"\n",
        "            message = f\"Hi {participant},\\n\\nYou have been assigned 'https://pixabay.com/music/search/genre/christmas/'{assigned_to} as your Secret Santa 'https://www.freepik.com/free-photos-vectors/santa-claus' recipient.\"\n",
        "            yag.send(to=receiver_email, subject=subject, contents=message)\n",
        "            print(f\"Email notification sent to {participant} at {receiver_email}.\")\n",
        "\n",
        "    def print_wishlist(self, participant):\n",
        "        wishlist = self.participants[participant]['wishlist']\n",
        "        if wishlist:\n",
        "            print(f\"{participant}'s wishlist:\\n{wishlist}\")\n",
        "        else:\n",
        "            print(f\"{participant} has not provided a wishlist.\")\n",
        "\n",
        "def main():\n",
        "    santa = SecretSantaGenerator()\n",
        "\n",
        "    # Input participants\n",
        "    num_participants = int(input(\"Enter the number of participants: \"))\n",
        "    for i in range(num_participants):\n",
        "        name = input(f\"Enter participant {i+1}'s name: \")\n",
        "        email = input(f\"Enter participant {i+1}'s email (optional): \") or None\n",
        "        wishlist = input(f\"Enter participant {i+1}'s wishlist (optional): \") or None\n",
        "        santa.add_participant(name, email, wishlist)\n",
        "\n",
        "        # Input exclusion rules\n",
        "    exclusion_rules = []\n",
        "    add_rules = input(\"Do you want to add exclusion rules? (yes/no): \")\n",
        "    if add_rules.lower() == 'yes':\n",
        "        while True:\n",
        "            rule = input(\"Enter exclusion rule in the format 'participant1,participant2' (or type 'done' to finish): \")\n",
        "            if rule.lower() == 'done':\n",
        "                break\n",
        "            rule = rule.split(',')\n",
        "            exclusion_rules.append((rule[0].strip(), rule[1].strip()))\n",
        "\n",
        "    # Generate assignments\n",
        "    santa.generate_assignments()\n",
        "\n",
        "    # Display assignments\n",
        "    for participant in santa.participants.keys():\n",
        "        santa.display_assignment(participant)\n",
        "\n",
        "    # Send email notifications\n",
        "    send_emails = input(\"Do you want to send email notifications to participants? (yes/no): \")\n",
        "    if send_emails.lower() == 'yes':\n",
        "        sender_email = input(\"Enter your email address: \")\n",
        "        sender_password = input(\"Enter your email password: \")\n",
        "        santa.send_email_notification(sender_email, sender_password)\n",
        "\n",
        "    # Display wishlists\n",
        "    for participant in santa.participants.keys():\n",
        "        santa.print_wishlist(participant)\n",
        "\n",
        "if __name__ == \"__main__\":\n",
        "  main()"
      ]
    },
    {
      "cell_type": "code",
      "source": [
        "\"\"\"Secret Santa Generator: Develop a program that randomly assigns Secret Santa gift exchange partners among a group of participants. Users can input participant names, and the program will generate the assignments.\n",
        "\n",
        "Participant Input: Users should be able to input the names of all participants in the Secret Santa gift exchange.\n",
        "\n",
        "Random Assignment: The program should randomly assign each participant to another participant who they will be giving a gift to. Each participant should only be assigned to one other participant, and no participant should be assigned to themselves.\n",
        "\n",
        "Assignment Display: Once the assignments have been made, the program should display the assignments in a way that allows each participant to see only their own assignment.\n",
        "\n",
        "Email Notifications: The program could have a feature that sends an email notification to each participant telling them who they have been assigned to.\n",
        "\n",
        "Wishlist Input: Participants could have the option to input a wishlist of gifts that they would like to receive. This wishlist would then be visible to the person who is assigned to give them a gift.\n",
        "\n",
        "Exclusion Rules: The program could allow users to input rules for certain people not to be paired together. For example, spouses or siblings might not want to be assigned to each other.\n",
        "\n",
        "Regeneration: If users are not satisfied with the initial assignments, the program could have a feature that allows them to regenerate the assignments.\n",
        "\n",
        "User Interface: The program should have an easy-to-use interface that allows users to input participants, view assignments, and manage other features effectively.\"\"\""
      ],
      "metadata": {
        "id": "3RSuSCfHIQB3",
        "outputId": "9dfe624e-38c4-46b0-d45b-37fdd0e3c772",
        "colab": {
          "base_uri": "https://localhost:8080/",
          "height": 105
        }
      },
      "execution_count": null,
      "outputs": [
        {
          "output_type": "execute_result",
          "data": {
            "text/plain": [
              "'Secret Santa Generator: Develop a program that randomly assigns Secret Santa gift exchange partners among a group of participants. Users can input participant names, and the program will generate the assignments.\\n\\nParticipant Input: Users should be able to input the names of all participants in the Secret Santa gift exchange.\\n\\nRandom Assignment: The program should randomly assign each participant to another participant who they will be giving a gift to. Each participant should only be assigned to one other participant, and no participant should be assigned to themselves.\\n\\nAssignment Display: Once the assignments have been made, the program should display the assignments in a way that allows each participant to see only their own assignment.\\n\\nEmail Notifications: The program could have a feature that sends an email notification to each participant telling them who they have been assigned to.\\n\\nWishlist Input: Participants could have the option to input a wishlist of gifts that they would like to receive. This wishlist would then be visible to the person who is assigned to give them a gift.\\n\\nExclusion Rules: The program could allow users to input rules for certain people not to be paired together. For example, spouses or siblings might not want to be assigned to each other.\\n\\nRegeneration: If users are not satisfied with the initial assignments, the program could have a feature that allows them to regenerate the assignments.\\n\\nUser Interface: The program should have an easy-to-use interface that allows users to input participants, view assignments, and manage other features effectively.'"
            ],
            "application/vnd.google.colaboratory.intrinsic+json": {
              "type": "string"
            }
          },
          "metadata": {},
          "execution_count": 1
        }
      ]
    }
  ]
}